{
  "nbformat": 4,
  "nbformat_minor": 0,
  "metadata": {
    "colab": {
      "name": "MIDAS.ipynb",
      "provenance": [],
      "collapsed_sections": [
        "lEsOjqy_95Ow"
      ],
      "toc_visible": true,
      "mount_file_id": "1DviQhhUWR9dvrtl8evN8fC09wnqSCOq1",
      "authorship_tag": "ABX9TyPfQiIfb1JTDw8hyqy8FGvh",
      "include_colab_link": true
    },
    "kernelspec": {
      "name": "python3",
      "display_name": "Python 3"
    },
    "language_info": {
      "name": "python"
    },
    "accelerator": "GPU"
  },
  "cells": [
    {
      "cell_type": "markdown",
      "metadata": {
        "id": "view-in-github",
        "colab_type": "text"
      },
      "source": [
        "<a href=\"https://colab.research.google.com/github/typewriter221/MIDAS-CNN-Task/blob/main/MIDAS.ipynb\" target=\"_parent\"><img src=\"https://colab.research.google.com/assets/colab-badge.svg\" alt=\"Open In Colab\"/></a>"
      ]
    },
    {
      "cell_type": "markdown",
      "metadata": {
        "id": "zkM3MfS8yINw"
      },
      "source": [
        "#Read Me\n",
        "[Drive Link](https://drive.google.com/drive/folders/14jQQeZU581N7suwzgc5DXBfIK-4t_LrK?usp=sharing) contains the data converted into csv format and save Checkpoints in Checkpoint folder and the Best Model of each task in Models Folder."
      ]
    },
    {
      "cell_type": "code",
      "metadata": {
        "id": "UFxqRg04vDe3"
      },
      "source": [
        "import pandas as pd\n",
        "import numpy as np\n",
        "import cv2\n",
        "import matplotlib.pyplot as plt\n",
        "from os import walk\n",
        "import seaborn as sns\n",
        "from sklearn.preprocessing import OneHotEncoder\n",
        "from sklearn.model_selection import train_test_split\n",
        "from sklearn.metrics import confusion_matrix\n",
        "import tensorflow as tf\n",
        "from tensorflow.keras.layers import *\n",
        "from tensorflow.keras.models import *\n",
        "from sklearn.preprocessing import normalize\n",
        "from sklearn.metrics import roc_curve\n",
        "from sklearn.metrics import roc_auc_score"
      ],
      "execution_count": 2,
      "outputs": []
    },
    {
      "cell_type": "code",
      "metadata": {
        "colab": {
          "base_uri": "https://localhost:8080/"
        },
        "id": "Wsg4SN4KCDg-",
        "outputId": "55e397c4-8a93-4a14-d554-b7338d8206dd"
      },
      "source": [
        "LABELS = ['0', '1', '2', '3', '4', '5', '6', '7', '8', '9', \n",
        "          'A', 'B', 'C', 'D', 'E', 'F', 'G', 'H', 'I', 'J', 'K', 'L', 'M', 'N', 'O', 'P', 'Q', 'R', 'S', 'T', 'U', 'V', 'W', 'X', 'Y', 'Z',\n",
        "          'a', 'b', 'c', 'd', 'e', 'f', 'g', 'h', 'i', 'j', 'k', 'l', 'm', 'n', 'o', 'p', 'q', 'r', 's', 't', 'u', 'v', 'w', 'x', 'y', 'z']\n",
        "\n",
        "print(len(LABELS))"
      ],
      "execution_count": 3,
      "outputs": [
        {
          "output_type": "stream",
          "text": [
            "62\n"
          ],
          "name": "stdout"
        }
      ]
    },
    {
      "cell_type": "code",
      "metadata": {
        "id": "4JVXMElkLrfb"
      },
      "source": [
        "lables = ['0', '1', '2', '3', '4', '5', '6', '7', '8', '9']"
      ],
      "execution_count": 4,
      "outputs": []
    },
    {
      "cell_type": "code",
      "metadata": {
        "id": "9Nv-YXB6_bJs"
      },
      "source": [
        "# Confusion Matrix\n",
        "def plot_confusion_matrix(model, x, y, lables = LABELS): \n",
        "  # y_test = [] \n",
        "  # y_preds = [] \n",
        "  # for imgs, labels in : \n",
        "  #   y_test.extend(np.argmax(labels, axis=1)) \n",
        "  #   y_pred = model.predict(imgs) \n",
        "  #   y_preds.extend(np.argmax(y_pred, axis=1))\n",
        "  y_preds = model.predict(x)\n",
        "  y_preds = np.argmax(y_preds, axis=1)\n",
        "\n",
        "  cm = confusion_matrix(y_true = y, y_pred = y_preds) \n",
        "  cm_normalize = normalize(cm, axis=1)\n",
        "\n",
        "  plt.figure(figsize=(15,15)); \n",
        "  sns.heatmap(cm_normalize, annot=False, xticklabels=lables, yticklabels=lables, linewidths=.1);\n",
        "\n",
        "  plt.savefig('confusion_matrix.png', bbox_inches='tight')"
      ],
      "execution_count": 5,
      "outputs": []
    },
    {
      "cell_type": "markdown",
      "metadata": {
        "id": "ICbFRWKo9-Le"
      },
      "source": [
        "#Load data in CSV Format\n",
        "\n"
      ]
    },
    {
      "cell_type": "code",
      "metadata": {
        "id": "H5HXx7L6-Ed8"
      },
      "source": [
        "\n",
        "images = []\n",
        "def loadMIDAS(path,filenames, lable):\n",
        "  for f in filenames:\n",
        "    f = path+\"/\"+f\n",
        "    image = [lable]\n",
        "    temp = cv2.imread(f, cv2.IMREAD_GRAYSCALE)\n",
        "    (thresh, im_bw) = cv2.threshold(temp, 128, 255, cv2.THRESH_BINARY_INV | cv2.THRESH_OTSU)\n",
        "    contours, hierarchy = cv2.findContours(im_bw,  cv2.RETR_EXTERNAL, cv2.CHAIN_APPROX_NONE)\n",
        "    print(lable, f)\n",
        "    c = max(contours, key = cv2.contourArea)\n",
        "    x,y,w,h = cv2.boundingRect(c)\n",
        "    copy = im_bw[y:y+h, x:x+w]\n",
        "    copy = cv2.resize(copy, (28,28))\n",
        "    img = list(copy.flatten())\n",
        "    image = image + img\n",
        "    images.append(image)\n",
        "  return \n",
        "location = \"/content/drive/MyDrive/Colab Notebooks/MIDAS/train/Sample0\"\n",
        "\n",
        "for id in range(1,63):\n",
        "  if id < 10:\n",
        "    myPath = location + \"0\" + str(id)\n",
        "  else :\n",
        "    myPath = location + str(id)\n",
        "  dump1, dump2, filenames = next(walk(myPath))\n",
        "  loadMIDAS(myPath, filenames, id-1)\n",
        "\n",
        "outf = \"/content/drive/MyDrive/Colab Notebooks/MIDAS/train.csv\"\n",
        "o = open(outf, \"w\")\n",
        "for image in images:\n",
        "  o.write(\",\".join(str(pix) for pix in image)+\"\\n\")\n",
        "o.close()"
      ],
      "execution_count": null,
      "outputs": []
    },
    {
      "cell_type": "code",
      "metadata": {
        "id": "IVEr37LKqwzc"
      },
      "source": [
        "# load data from csv\n",
        "train = pd.read_csv(\"/content/drive/MyDrive/Colab Notebooks/MIDAS/train.csv\", header=None)\n",
        "X = train.iloc[:,1:].values\n",
        "X = X.reshape((-1,28,28))\n",
        "Y = train.iloc[:,0].values\n"
      ],
      "execution_count": 10,
      "outputs": []
    },
    {
      "cell_type": "markdown",
      "metadata": {
        "id": "zopE-9dCQWFg"
      },
      "source": [
        "##Lable Encode "
      ]
    },
    {
      "cell_type": "code",
      "metadata": {
        "id": "pytvvKvOxJFf"
      },
      "source": [
        "#One Hot encode Lables\n",
        "enc = OneHotEncoder()\n",
        "Y_enc = enc.fit_transform(Y.reshape(-1,1)).toarray()"
      ],
      "execution_count": 11,
      "outputs": []
    },
    {
      "cell_type": "markdown",
      "metadata": {
        "id": "RUUcm3zbyr02"
      },
      "source": [
        "#Validation Split"
      ]
    },
    {
      "cell_type": "code",
      "metadata": {
        "id": "PzT9bz6oyvJH"
      },
      "source": [
        "\n",
        "X_train, X_test, y_train, y_test = train_test_split( X, Y_enc, test_size=0.1, random_state=42)"
      ],
      "execution_count": null,
      "outputs": []
    },
    {
      "cell_type": "markdown",
      "metadata": {
        "id": "jV-ss-kJ2g77"
      },
      "source": [
        "#Data Augmentation\n"
      ]
    },
    {
      "cell_type": "code",
      "metadata": {
        "id": "5v1stQSp2gj-"
      },
      "source": [
        "datagen = tf.keras.preprocessing.image.ImageDataGenerator(\n",
        "    # rescale=1./255,\n",
        "    rotation_range=10,\n",
        "    width_shift_range=0.1,\n",
        "    height_shift_range=0.1)\n",
        "datagen.fit(X_train.reshape(-1,28,28,1))"
      ],
      "execution_count": null,
      "outputs": []
    },
    {
      "cell_type": "code",
      "metadata": {
        "colab": {
          "base_uri": "https://localhost:8080/",
          "height": 268
        },
        "id": "nmB4keNAulRa",
        "outputId": "1b3d9f68-21f4-4feb-ad68-c9e8402ed87d"
      },
      "source": [
        "for X_batch, y_batch in datagen.flow(X_train.reshape((-1,28,28,1)), y_train, batch_size=9):\n",
        "\t# create a grid of 3x3 images\n",
        "\tfor i in range(0, 9):\n",
        "\t\tplt.subplot(330 + 1 + i)\n",
        "\t\tplt.imshow(X_batch[i].reshape(28, 28), cmap=plt.get_cmap('gray'))\n",
        "\t# show the plot\n",
        "\tplt.show()\n",
        "\tbreak"
      ],
      "execution_count": null,
      "outputs": [
        {
          "output_type": "display_data",
          "data": {
            "image/png": "[encoded data removed]",
            "text/plain": [
              "<Figure size 432x288 with 9 Axes>"
            ]
          },
          "metadata": {
            "tags": [],
            "needs_background": "light"
          }
        }
      ]
    },
    {
      "cell_type": "markdown",
      "metadata": {
        "id": "GHcO2d6gyljB"
      },
      "source": [
        "#Task-1\n"
      ]
    },
    {
      "cell_type": "markdown",
      "metadata": {
        "id": "4ddA5I9LzEgU"
      },
      "source": [
        "##Model\n",
        "\n"
      ]
    },
    {
      "cell_type": "code",
      "metadata": {
        "id": "36Z8zXQFzHs1"
      },
      "source": [
        "# Model inspired from VGG16 model\n",
        "#Model overfitting adding Dropout of 0.5 after each block\n",
        "# Reducing Dropout Rate from 0.5 to 0.2\n",
        "# Increasing dropuout of intial layers from 0.2 to 0.4\n",
        "def CNN():\n",
        "  inputs = Input(shape=(28,28,1))\n",
        "  x = Conv2D(75,(3,3),strides=1,padding='same',activation='swish')(inputs)\n",
        "  x = Conv2D(150,(7,7),strides=1,padding='same',activation='swish')(x)\n",
        "  x = BatchNormalization()(x)\n",
        "  x = MaxPool2D((2,2), strides = 2 , padding = 'same')(x)\n",
        "  x = Dropout(0.5)(x)\n",
        "\n",
        "  x = Conv2D(50,(3,3),strides=1,padding='same',activation='swish')(x)\n",
        "  x = Conv2D(100,(7,7),strides=1,padding='same',activation='swish')(x)\n",
        "  x = Conv2D(150,(3,3),strides=1,padding='same',activation='swish')(x)\n",
        "  x = BatchNormalization()(x)\n",
        "  x = MaxPool2D((2,2), strides = 2 , padding = 'same')(x)\n",
        "  x = Dropout(0.4)(x)\n",
        "\n",
        "  x = Conv2D(50,(3,3),strides=1,padding='same',activation='swish')(x)\n",
        "  x = Conv2D(100,(7,7),strides=1,padding='same',activation='swish')(x)\n",
        "  x = Conv2D(150,(3,3),strides=1,padding='same',activation='swish')(x)\n",
        "  x = BatchNormalization()(x)\n",
        "  x = MaxPool2D((2,2), strides = 2 , padding = 'same')(x)\n",
        "  x = Dropout(0.2)(x)\n",
        "\n",
        "  x = Conv2D(50,(3,3),strides=1,padding='same',activation='swish')(x)\n",
        "  x = Conv2D(100,(7,7),strides=1,padding='same',activation='swish')(x)\n",
        "  x = Conv2D(150,(3,3),strides=1,padding='same',activation='swish')(x)\n",
        "  x = BatchNormalization()(x)\n",
        "  x = MaxPool2D((2,2), strides = 2 , padding = 'same')(x)\n",
        "  x = Dropout(0.2)(x)\n",
        "\n",
        "  x = Conv2D(100,(7,7),strides=1,padding='same',activation='swish')(x)\n",
        "  x = Conv2D(50,(3,3),strides=1,padding='same',activation='swish')(x)\n",
        "  x = Conv2D(25,(3,3),strides=1,padding='same',activation='swish')(x)\n",
        "  x = BatchNormalization()(x)\n",
        "  x = MaxPool2D((1,1), strides = 2 , padding = 'same')(x)\n",
        "\n",
        "  x = Flatten()(x)\n",
        "\n",
        "  x = Dense(256, activation='swish')(x)# Changing from sigmoid to swish Step-7\n",
        "  x = BatchNormalization()(x)# Sigmoid Step-8\n",
        "  x = Dropout(0.2)(x)\n",
        "  x = Dense(128, activation='swish')(x)# Replacing Relu with Swish Step-4\n",
        "  x = BatchNormalization()(x)\n",
        "  x = Dense(128, activation='swish')(x)# Replacing Relu with Swish Step-4\n",
        "  x = Dropout(0.1)(x) # Addind Dropout Step-2\n",
        "  x = BatchNormalization()(x)\n",
        "  x = Dense(128, activation='relu')(x)# Replacing Relu with Swish Step-4, Changing back to Relu Step-8\n",
        "  \n",
        "  outputs = Dense(len(LABELS), activation='softmax')(x)\n",
        "  model = Model(inputs=inputs, outputs=outputs)\n",
        "  # model.summary()\n",
        "  return model"
      ],
      "execution_count": 23,
      "outputs": []
    },
    {
      "cell_type": "markdown",
      "metadata": {
        "id": "wfxGAyz7CswY"
      },
      "source": [
        "#Model Callbacks\n",
        "Early Stopping, Learning Rate Scheduler and Checkpoint Saving"
      ]
    },
    {
      "cell_type": "code",
      "metadata": {
        "id": "PbvQsXlKz8sF"
      },
      "source": [
        "#Early Stopping\n",
        "early_stopper = tf.keras.callbacks.EarlyStopping(\n",
        "    monitor='val_loss', patience=7, verbose=0, mode='auto', restore_best_weights=True\n",
        ") # Step-1 Reduce patince from 5 to 3\n",
        "#Learning Rate Scheduler\n",
        "def scheduler(epoch, lr):\n",
        "  if epoch < 5:  \n",
        "    return lr\n",
        "  else:\n",
        "    return lr * tf.math.exp(-0.1)\n",
        "callback = tf.keras.callbacks.LearningRateScheduler(scheduler)\n",
        "#Saving model CheckPoints\n",
        "checkpoint_filepath = '/content/drive/MyDrive/Colab Notebooks/MIDAS/Checkpoints/task-1/task-1'\n",
        "model_checkpoint_callback = tf.keras.callbacks.ModelCheckpoint(\n",
        "    filepath=checkpoint_filepath,\n",
        "    monitor='val_loss', verbose=0, save_best_only=False,\n",
        "    save_weights_only=False, mode='auto', save_freq='epoch')"
      ],
      "execution_count": 16,
      "outputs": []
    },
    {
      "cell_type": "code",
      "metadata": {
        "colab": {
          "base_uri": "https://localhost:8080/"
        },
        "id": "HFAN0j7o0ObU",
        "outputId": "1ba4d049-705c-4f6f-c011-3bfb7fcd6262"
      },
      "source": [
        "#Training on split Train Dataset\n",
        "model = CNN()\n",
        "\n",
        "# optimizer\n",
        "optimizer = tf.keras.optimizers.Adam(learning_rate=0.001)#Increasing Learning Rate after adding dropout\n",
        "\n",
        "# compile\n",
        "model.compile(optimizer, 'categorical_crossentropy', metrics=['acc'])\n",
        "# fit\n",
        "history = model.fit(X_train,y_train, validation_data=(X_test, y_test),epochs = 200, batch_size = 32,shuffle = True, callbacks = [early_stopper,callback])"
      ],
      "execution_count": null,
      "outputs": [
        {
          "output_type": "stream",
          "text": [
            "Epoch 1/200\n",
            "70/70 [==============================] - 6s 32ms/step - loss: 4.2512 - acc: 0.0222 - val_loss: 16.2643 - val_acc: 0.0121\n",
            "Epoch 2/200\n",
            "70/70 [==============================] - 2s 21ms/step - loss: 3.5168 - acc: 0.0906 - val_loss: 6.2442 - val_acc: 0.0202\n",
            "Epoch 3/200\n",
            "70/70 [==============================] - 2s 21ms/step - loss: 2.9661 - acc: 0.1442 - val_loss: 4.9981 - val_acc: 0.0282\n",
            "Epoch 4/200\n",
            "70/70 [==============================] - 1s 21ms/step - loss: 2.6724 - acc: 0.2194 - val_loss: 3.0937 - val_acc: 0.1613\n",
            "Epoch 5/200\n",
            "70/70 [==============================] - 1s 21ms/step - loss: 2.2891 - acc: 0.2943 - val_loss: 4.0537 - val_acc: 0.1452\n",
            "Epoch 6/200\n",
            "70/70 [==============================] - 1s 21ms/step - loss: 2.0099 - acc: 0.3781 - val_loss: 2.5188 - val_acc: 0.2500\n",
            "Epoch 7/200\n",
            "70/70 [==============================] - 1s 21ms/step - loss: 1.7436 - acc: 0.4156 - val_loss: 1.8681 - val_acc: 0.4073\n",
            "Epoch 8/200\n",
            "70/70 [==============================] - 1s 21ms/step - loss: 1.4685 - acc: 0.4777 - val_loss: 1.7536 - val_acc: 0.4315\n",
            "Epoch 9/200\n",
            "70/70 [==============================] - 1s 21ms/step - loss: 1.3623 - acc: 0.5072 - val_loss: 1.6164 - val_acc: 0.5242\n",
            "Epoch 10/200\n",
            "70/70 [==============================] - 1s 21ms/step - loss: 1.3104 - acc: 0.5475 - val_loss: 1.2460 - val_acc: 0.5968\n",
            "Epoch 11/200\n",
            "70/70 [==============================] - 1s 21ms/step - loss: 1.0382 - acc: 0.6285 - val_loss: 0.8703 - val_acc: 0.7016\n",
            "Epoch 12/200\n",
            "70/70 [==============================] - 1s 21ms/step - loss: 0.9419 - acc: 0.6632 - val_loss: 1.0467 - val_acc: 0.6492\n",
            "Epoch 13/200\n",
            "70/70 [==============================] - 1s 21ms/step - loss: 0.8911 - acc: 0.6989 - val_loss: 0.8824 - val_acc: 0.6452\n",
            "Epoch 14/200\n",
            "70/70 [==============================] - 2s 22ms/step - loss: 0.7966 - acc: 0.7312 - val_loss: 0.8262 - val_acc: 0.7016\n",
            "Epoch 15/200\n",
            "70/70 [==============================] - 2s 21ms/step - loss: 0.6830 - acc: 0.7487 - val_loss: 0.6489 - val_acc: 0.7782\n",
            "Epoch 16/200\n",
            "70/70 [==============================] - 1s 21ms/step - loss: 0.6207 - acc: 0.7835 - val_loss: 0.6172 - val_acc: 0.8266\n",
            "Epoch 17/200\n",
            "70/70 [==============================] - 1s 21ms/step - loss: 0.6282 - acc: 0.7833 - val_loss: 0.6441 - val_acc: 0.7823\n",
            "Epoch 18/200\n",
            "70/70 [==============================] - 1s 21ms/step - loss: 0.5998 - acc: 0.7739 - val_loss: 0.5740 - val_acc: 0.7944\n",
            "Epoch 19/200\n",
            "70/70 [==============================] - 1s 21ms/step - loss: 0.5326 - acc: 0.8021 - val_loss: 0.5344 - val_acc: 0.8105\n",
            "Epoch 20/200\n",
            "70/70 [==============================] - 1s 21ms/step - loss: 0.5209 - acc: 0.8069 - val_loss: 0.5078 - val_acc: 0.8266\n",
            "Epoch 21/200\n",
            "70/70 [==============================] - 1s 21ms/step - loss: 0.4299 - acc: 0.8482 - val_loss: 0.5405 - val_acc: 0.8145\n",
            "Epoch 22/200\n",
            "70/70 [==============================] - 1s 21ms/step - loss: 0.4497 - acc: 0.8346 - val_loss: 0.5075 - val_acc: 0.8105\n",
            "Epoch 23/200\n",
            "70/70 [==============================] - 1s 21ms/step - loss: 0.4135 - acc: 0.8470 - val_loss: 0.4668 - val_acc: 0.8145\n",
            "Epoch 24/200\n",
            "70/70 [==============================] - 1s 21ms/step - loss: 0.3672 - acc: 0.8753 - val_loss: 0.5052 - val_acc: 0.7944\n",
            "Epoch 25/200\n",
            "70/70 [==============================] - 1s 21ms/step - loss: 0.3708 - acc: 0.8759 - val_loss: 0.4662 - val_acc: 0.8508\n",
            "Epoch 26/200\n",
            "70/70 [==============================] - 1s 21ms/step - loss: 0.3279 - acc: 0.8806 - val_loss: 0.4790 - val_acc: 0.8629\n",
            "Epoch 27/200\n",
            "70/70 [==============================] - 1s 21ms/step - loss: 0.3111 - acc: 0.8882 - val_loss: 0.4144 - val_acc: 0.8508\n",
            "Epoch 28/200\n",
            "70/70 [==============================] - 1s 21ms/step - loss: 0.3231 - acc: 0.8819 - val_loss: 0.4035 - val_acc: 0.8508\n",
            "Epoch 29/200\n",
            "70/70 [==============================] - 1s 21ms/step - loss: 0.2950 - acc: 0.9046 - val_loss: 0.4692 - val_acc: 0.8508\n",
            "Epoch 30/200\n",
            "70/70 [==============================] - 1s 21ms/step - loss: 0.2831 - acc: 0.8959 - val_loss: 0.4573 - val_acc: 0.8347\n",
            "Epoch 31/200\n",
            "70/70 [==============================] - 1s 21ms/step - loss: 0.2904 - acc: 0.8887 - val_loss: 0.4343 - val_acc: 0.8669\n",
            "Epoch 32/200\n",
            "70/70 [==============================] - 1s 21ms/step - loss: 0.2883 - acc: 0.8993 - val_loss: 0.4533 - val_acc: 0.8589\n",
            "Epoch 33/200\n",
            "70/70 [==============================] - 1s 21ms/step - loss: 0.2954 - acc: 0.8997 - val_loss: 0.4334 - val_acc: 0.8468\n",
            "Epoch 34/200\n",
            "70/70 [==============================] - 1s 21ms/step - loss: 0.2776 - acc: 0.8990 - val_loss: 0.4294 - val_acc: 0.8347\n",
            "Epoch 35/200\n",
            "70/70 [==============================] - 1s 21ms/step - loss: 0.2682 - acc: 0.9099 - val_loss: 0.4294 - val_acc: 0.8468\n"
          ],
          "name": "stdout"
        }
      ]
    },
    {
      "cell_type": "code",
      "metadata": {
        "colab": {
          "base_uri": "https://localhost:8080/"
        },
        "id": "Y9KO-YyLyzFZ",
        "outputId": "ad635a57-72e2-400a-f55a-b4cb5d378e3b"
      },
      "source": [
        "#Training on complete dataset\n",
        "model = CNN()\n",
        "\n",
        "# optimizer\n",
        "optimizer = tf.keras.optimizers.Adam(learning_rate=0.001)\n",
        "\n",
        "# compile\n",
        "model.compile(optimizer, 'categorical_crossentropy', metrics=['acc'])\n",
        "#fit\n",
        "# The model reached saturation after 12 epochs on validation data, the model was overfitting adding Dropout Regularization to the model  \n",
        "# Using augmented data for validation set\n",
        "history2 = model.fit(X,Y_enc,validation_data = datagen.flow(X_train.reshape((-1,28,28,1)),y_train,batch_size=3000),epochs = 200, batch_size = 32,shuffle = True, callbacks = [early_stopper,callback,model_checkpoint_callback])"
      ],
      "execution_count": null,
      "outputs": [
        {
          "output_type": "stream",
          "text": [
            "Epoch 1/200\n",
            "78/78 [==============================] - 7s 70ms/step - loss: 4.2176 - acc: 0.0353 - val_loss: 14.1159 - val_acc: 0.0175\n",
            "INFO:tensorflow:Assets written to: /content/drive/MyDrive/Colab Notebooks/MIDAS/Checkpoints/task-1/task-1/assets\n",
            "Epoch 2/200\n",
            "78/78 [==============================] - 2s 32ms/step - loss: 3.2283 - acc: 0.1389 - val_loss: 11.8311 - val_acc: 0.0202\n",
            "INFO:tensorflow:Assets written to: /content/drive/MyDrive/Colab Notebooks/MIDAS/Checkpoints/task-1/task-1/assets\n",
            "Epoch 3/200\n",
            "78/78 [==============================] - 2s 31ms/step - loss: 2.4894 - acc: 0.2725 - val_loss: 5.5316 - val_acc: 0.0865\n",
            "INFO:tensorflow:Assets written to: /content/drive/MyDrive/Colab Notebooks/MIDAS/Checkpoints/task-1/task-1/assets\n",
            "Epoch 4/200\n",
            "78/78 [==============================] - 2s 32ms/step - loss: 2.1360 - acc: 0.3271 - val_loss: 3.0257 - val_acc: 0.2249\n",
            "INFO:tensorflow:Assets written to: /content/drive/MyDrive/Colab Notebooks/MIDAS/Checkpoints/task-1/task-1/assets\n",
            "Epoch 5/200\n",
            "78/78 [==============================] - 2s 32ms/step - loss: 2.0277 - acc: 0.3577 - val_loss: 6.5157 - val_acc: 0.1223\n",
            "INFO:tensorflow:Assets written to: /content/drive/MyDrive/Colab Notebooks/MIDAS/Checkpoints/task-1/task-1/assets\n",
            "Epoch 6/200\n",
            "78/78 [==============================] - 2s 32ms/step - loss: 1.6560 - acc: 0.4407 - val_loss: 2.2319 - val_acc: 0.3813\n",
            "INFO:tensorflow:Assets written to: /content/drive/MyDrive/Colab Notebooks/MIDAS/Checkpoints/task-1/task-1/assets\n",
            "Epoch 7/200\n",
            "78/78 [==============================] - 3s 32ms/step - loss: 1.4200 - acc: 0.5078 - val_loss: 1.7702 - val_acc: 0.4521\n",
            "INFO:tensorflow:Assets written to: /content/drive/MyDrive/Colab Notebooks/MIDAS/Checkpoints/task-1/task-1/assets\n",
            "Epoch 8/200\n",
            "78/78 [==============================] - 2s 32ms/step - loss: 1.2549 - acc: 0.5752 - val_loss: 1.5135 - val_acc: 0.5260\n",
            "INFO:tensorflow:Assets written to: /content/drive/MyDrive/Colab Notebooks/MIDAS/Checkpoints/task-1/task-1/assets\n",
            "Epoch 9/200\n",
            "78/78 [==============================] - 3s 33ms/step - loss: 1.1127 - acc: 0.6153 - val_loss: 1.3506 - val_acc: 0.5605\n",
            "INFO:tensorflow:Assets written to: /content/drive/MyDrive/Colab Notebooks/MIDAS/Checkpoints/task-1/task-1/assets\n",
            "Epoch 10/200\n",
            "78/78 [==============================] - 2s 32ms/step - loss: 1.0325 - acc: 0.6342 - val_loss: 1.1646 - val_acc: 0.6268\n",
            "INFO:tensorflow:Assets written to: /content/drive/MyDrive/Colab Notebooks/MIDAS/Checkpoints/task-1/task-1/assets\n",
            "Epoch 11/200\n",
            "78/78 [==============================] - 2s 32ms/step - loss: 0.8961 - acc: 0.6971 - val_loss: 1.2581 - val_acc: 0.5856\n",
            "INFO:tensorflow:Assets written to: /content/drive/MyDrive/Colab Notebooks/MIDAS/Checkpoints/task-1/task-1/assets\n",
            "Epoch 12/200\n",
            "78/78 [==============================] - 2s 32ms/step - loss: 0.7841 - acc: 0.7159 - val_loss: 1.2381 - val_acc: 0.6250\n",
            "INFO:tensorflow:Assets written to: /content/drive/MyDrive/Colab Notebooks/MIDAS/Checkpoints/task-1/task-1/assets\n",
            "Epoch 13/200\n",
            "78/78 [==============================] - 3s 33ms/step - loss: 0.7363 - acc: 0.7483 - val_loss: 1.0546 - val_acc: 0.6389\n",
            "INFO:tensorflow:Assets written to: /content/drive/MyDrive/Colab Notebooks/MIDAS/Checkpoints/task-1/task-1/assets\n",
            "Epoch 14/200\n",
            "78/78 [==============================] - 3s 32ms/step - loss: 0.6574 - acc: 0.7872 - val_loss: 0.9282 - val_acc: 0.7097\n",
            "INFO:tensorflow:Assets written to: /content/drive/MyDrive/Colab Notebooks/MIDAS/Checkpoints/task-1/task-1/assets\n",
            "Epoch 15/200\n",
            "78/78 [==============================] - 3s 32ms/step - loss: 0.5679 - acc: 0.8143 - val_loss: 0.9517 - val_acc: 0.6940\n",
            "INFO:tensorflow:Assets written to: /content/drive/MyDrive/Colab Notebooks/MIDAS/Checkpoints/task-1/task-1/assets\n",
            "Epoch 16/200\n",
            "78/78 [==============================] - 2s 32ms/step - loss: 0.4610 - acc: 0.8445 - val_loss: 0.8024 - val_acc: 0.7267\n",
            "INFO:tensorflow:Assets written to: /content/drive/MyDrive/Colab Notebooks/MIDAS/Checkpoints/task-1/task-1/assets\n",
            "Epoch 17/200\n",
            "78/78 [==============================] - 3s 32ms/step - loss: 0.4598 - acc: 0.8331 - val_loss: 0.8492 - val_acc: 0.7267\n",
            "INFO:tensorflow:Assets written to: /content/drive/MyDrive/Colab Notebooks/MIDAS/Checkpoints/task-1/task-1/assets\n",
            "Epoch 18/200\n",
            "78/78 [==============================] - 2s 32ms/step - loss: 0.4327 - acc: 0.8400 - val_loss: 0.8821 - val_acc: 0.7254\n",
            "INFO:tensorflow:Assets written to: /content/drive/MyDrive/Colab Notebooks/MIDAS/Checkpoints/task-1/task-1/assets\n",
            "Epoch 19/200\n",
            "78/78 [==============================] - 3s 32ms/step - loss: 0.3962 - acc: 0.8623 - val_loss: 0.8066 - val_acc: 0.7289\n",
            "INFO:tensorflow:Assets written to: /content/drive/MyDrive/Colab Notebooks/MIDAS/Checkpoints/task-1/task-1/assets\n",
            "Epoch 20/200\n",
            "78/78 [==============================] - 2s 32ms/step - loss: 0.3788 - acc: 0.8745 - val_loss: 0.7260 - val_acc: 0.7585\n",
            "INFO:tensorflow:Assets written to: /content/drive/MyDrive/Colab Notebooks/MIDAS/Checkpoints/task-1/task-1/assets\n",
            "Epoch 21/200\n",
            "78/78 [==============================] - 3s 33ms/step - loss: 0.3588 - acc: 0.8752 - val_loss: 0.7135 - val_acc: 0.7702\n",
            "INFO:tensorflow:Assets written to: /content/drive/MyDrive/Colab Notebooks/MIDAS/Checkpoints/task-1/task-1/assets\n",
            "Epoch 22/200\n",
            "78/78 [==============================] - 2s 32ms/step - loss: 0.3334 - acc: 0.8868 - val_loss: 0.7176 - val_acc: 0.7675\n",
            "INFO:tensorflow:Assets written to: /content/drive/MyDrive/Colab Notebooks/MIDAS/Checkpoints/task-1/task-1/assets\n",
            "Epoch 23/200\n",
            "78/78 [==============================] - 3s 33ms/step - loss: 0.2861 - acc: 0.9050 - val_loss: 0.7043 - val_acc: 0.7737\n",
            "INFO:tensorflow:Assets written to: /content/drive/MyDrive/Colab Notebooks/MIDAS/Checkpoints/task-1/task-1/assets\n",
            "Epoch 24/200\n",
            "78/78 [==============================] - 2s 32ms/step - loss: 0.2929 - acc: 0.9003 - val_loss: 0.6686 - val_acc: 0.7836\n",
            "INFO:tensorflow:Assets written to: /content/drive/MyDrive/Colab Notebooks/MIDAS/Checkpoints/task-1/task-1/assets\n",
            "Epoch 25/200\n",
            "78/78 [==============================] - 2s 32ms/step - loss: 0.2721 - acc: 0.9038 - val_loss: 0.6334 - val_acc: 0.8020\n",
            "INFO:tensorflow:Assets written to: /content/drive/MyDrive/Colab Notebooks/MIDAS/Checkpoints/task-1/task-1/assets\n",
            "Epoch 26/200\n",
            "78/78 [==============================] - 2s 32ms/step - loss: 0.3000 - acc: 0.8924 - val_loss: 0.6593 - val_acc: 0.8024\n",
            "INFO:tensorflow:Assets written to: /content/drive/MyDrive/Colab Notebooks/MIDAS/Checkpoints/task-1/task-1/assets\n",
            "Epoch 27/200\n",
            "78/78 [==============================] - 3s 32ms/step - loss: 0.2437 - acc: 0.9141 - val_loss: 0.6147 - val_acc: 0.8060\n",
            "INFO:tensorflow:Assets written to: /content/drive/MyDrive/Colab Notebooks/MIDAS/Checkpoints/task-1/task-1/assets\n",
            "Epoch 28/200\n",
            "78/78 [==============================] - 2s 32ms/step - loss: 0.2380 - acc: 0.9238 - val_loss: 0.6135 - val_acc: 0.8123\n",
            "INFO:tensorflow:Assets written to: /content/drive/MyDrive/Colab Notebooks/MIDAS/Checkpoints/task-1/task-1/assets\n",
            "Epoch 29/200\n",
            "78/78 [==============================] - 3s 32ms/step - loss: 0.2211 - acc: 0.9202 - val_loss: 0.6323 - val_acc: 0.7961\n",
            "INFO:tensorflow:Assets written to: /content/drive/MyDrive/Colab Notebooks/MIDAS/Checkpoints/task-1/task-1/assets\n",
            "Epoch 30/200\n",
            "78/78 [==============================] - 2s 32ms/step - loss: 0.2428 - acc: 0.9158 - val_loss: 0.6334 - val_acc: 0.8015\n",
            "INFO:tensorflow:Assets written to: /content/drive/MyDrive/Colab Notebooks/MIDAS/Checkpoints/task-1/task-1/assets\n",
            "Epoch 31/200\n",
            "78/78 [==============================] - 3s 32ms/step - loss: 0.2006 - acc: 0.9365 - val_loss: 0.6667 - val_acc: 0.7930\n",
            "INFO:tensorflow:Assets written to: /content/drive/MyDrive/Colab Notebooks/MIDAS/Checkpoints/task-1/task-1/assets\n",
            "Epoch 32/200\n",
            "78/78 [==============================] - 3s 32ms/step - loss: 0.2472 - acc: 0.9117 - val_loss: 0.6047 - val_acc: 0.8136\n",
            "INFO:tensorflow:Assets written to: /content/drive/MyDrive/Colab Notebooks/MIDAS/Checkpoints/task-1/task-1/assets\n",
            "Epoch 33/200\n",
            "78/78 [==============================] - 2s 32ms/step - loss: 0.1936 - acc: 0.9265 - val_loss: 0.6125 - val_acc: 0.8038\n",
            "INFO:tensorflow:Assets written to: /content/drive/MyDrive/Colab Notebooks/MIDAS/Checkpoints/task-1/task-1/assets\n",
            "Epoch 34/200\n",
            "78/78 [==============================] - 3s 32ms/step - loss: 0.2017 - acc: 0.9283 - val_loss: 0.6044 - val_acc: 0.8181\n",
            "INFO:tensorflow:Assets written to: /content/drive/MyDrive/Colab Notebooks/MIDAS/Checkpoints/task-1/task-1/assets\n",
            "Epoch 35/200\n",
            "78/78 [==============================] - 3s 32ms/step - loss: 0.2015 - acc: 0.9315 - val_loss: 0.6076 - val_acc: 0.8087\n",
            "INFO:tensorflow:Assets written to: /content/drive/MyDrive/Colab Notebooks/MIDAS/Checkpoints/task-1/task-1/assets\n",
            "Epoch 36/200\n",
            "78/78 [==============================] - 2s 32ms/step - loss: 0.2122 - acc: 0.9247 - val_loss: 0.6562 - val_acc: 0.8082\n",
            "INFO:tensorflow:Assets written to: /content/drive/MyDrive/Colab Notebooks/MIDAS/Checkpoints/task-1/task-1/assets\n",
            "Epoch 37/200\n",
            "78/78 [==============================] - 3s 32ms/step - loss: 0.1928 - acc: 0.9287 - val_loss: 0.6399 - val_acc: 0.8109\n",
            "INFO:tensorflow:Assets written to: /content/drive/MyDrive/Colab Notebooks/MIDAS/Checkpoints/task-1/task-1/assets\n",
            "Epoch 38/200\n",
            "78/78 [==============================] - 3s 32ms/step - loss: 0.1714 - acc: 0.9380 - val_loss: 0.6371 - val_acc: 0.8168\n",
            "INFO:tensorflow:Assets written to: /content/drive/MyDrive/Colab Notebooks/MIDAS/Checkpoints/task-1/task-1/assets\n",
            "Epoch 39/200\n",
            "78/78 [==============================] - 2s 32ms/step - loss: 0.1690 - acc: 0.9406 - val_loss: 0.5951 - val_acc: 0.8105\n",
            "INFO:tensorflow:Assets written to: /content/drive/MyDrive/Colab Notebooks/MIDAS/Checkpoints/task-1/task-1/assets\n",
            "Epoch 40/200\n",
            "78/78 [==============================] - 2s 32ms/step - loss: 0.1618 - acc: 0.9452 - val_loss: 0.6209 - val_acc: 0.8172\n",
            "INFO:tensorflow:Assets written to: /content/drive/MyDrive/Colab Notebooks/MIDAS/Checkpoints/task-1/task-1/assets\n",
            "Epoch 41/200\n",
            "78/78 [==============================] - 2s 32ms/step - loss: 0.1677 - acc: 0.9440 - val_loss: 0.6440 - val_acc: 0.8078\n",
            "INFO:tensorflow:Assets written to: /content/drive/MyDrive/Colab Notebooks/MIDAS/Checkpoints/task-1/task-1/assets\n",
            "Epoch 42/200\n",
            "78/78 [==============================] - 2s 32ms/step - loss: 0.1817 - acc: 0.9388 - val_loss: 0.6777 - val_acc: 0.8141\n",
            "INFO:tensorflow:Assets written to: /content/drive/MyDrive/Colab Notebooks/MIDAS/Checkpoints/task-1/task-1/assets\n",
            "Epoch 43/200\n",
            "78/78 [==============================] - 3s 33ms/step - loss: 0.1683 - acc: 0.9401 - val_loss: 0.6016 - val_acc: 0.8194\n",
            "INFO:tensorflow:Assets written to: /content/drive/MyDrive/Colab Notebooks/MIDAS/Checkpoints/task-1/task-1/assets\n",
            "Epoch 44/200\n",
            "78/78 [==============================] - 3s 32ms/step - loss: 0.1606 - acc: 0.9480 - val_loss: 0.5888 - val_acc: 0.8221\n",
            "INFO:tensorflow:Assets written to: /content/drive/MyDrive/Colab Notebooks/MIDAS/Checkpoints/task-1/task-1/assets\n",
            "Epoch 45/200\n",
            "78/78 [==============================] - 2s 32ms/step - loss: 0.1611 - acc: 0.9468 - val_loss: 0.6794 - val_acc: 0.8114\n",
            "INFO:tensorflow:Assets written to: /content/drive/MyDrive/Colab Notebooks/MIDAS/Checkpoints/task-1/task-1/assets\n",
            "Epoch 46/200\n",
            "78/78 [==============================] - 2s 32ms/step - loss: 0.1459 - acc: 0.9550 - val_loss: 0.6083 - val_acc: 0.8185\n",
            "INFO:tensorflow:Assets written to: /content/drive/MyDrive/Colab Notebooks/MIDAS/Checkpoints/task-1/task-1/assets\n",
            "Epoch 47/200\n",
            "78/78 [==============================] - 3s 33ms/step - loss: 0.1574 - acc: 0.9451 - val_loss: 0.6270 - val_acc: 0.8208\n",
            "INFO:tensorflow:Assets written to: /content/drive/MyDrive/Colab Notebooks/MIDAS/Checkpoints/task-1/task-1/assets\n",
            "Epoch 48/200\n",
            "78/78 [==============================] - 2s 32ms/step - loss: 0.1473 - acc: 0.9530 - val_loss: 0.6602 - val_acc: 0.8123\n",
            "INFO:tensorflow:Assets written to: /content/drive/MyDrive/Colab Notebooks/MIDAS/Checkpoints/task-1/task-1/assets\n",
            "Epoch 49/200\n",
            "78/78 [==============================] - 3s 33ms/step - loss: 0.1590 - acc: 0.9568 - val_loss: 0.6610 - val_acc: 0.8109\n",
            "INFO:tensorflow:Assets written to: /content/drive/MyDrive/Colab Notebooks/MIDAS/Checkpoints/task-1/task-1/assets\n",
            "Epoch 50/200\n",
            "78/78 [==============================] - 2s 32ms/step - loss: 0.1448 - acc: 0.9506 - val_loss: 0.5906 - val_acc: 0.8194\n",
            "INFO:tensorflow:Assets written to: /content/drive/MyDrive/Colab Notebooks/MIDAS/Checkpoints/task-1/task-1/assets\n",
            "Epoch 51/200\n",
            "78/78 [==============================] - 3s 33ms/step - loss: 0.1431 - acc: 0.9527 - val_loss: 0.6402 - val_acc: 0.8177\n",
            "INFO:tensorflow:Assets written to: /content/drive/MyDrive/Colab Notebooks/MIDAS/Checkpoints/task-1/task-1/assets\n"
          ],
          "name": "stdout"
        }
      ]
    },
    {
      "cell_type": "code",
      "metadata": {
        "colab": {
          "base_uri": "https://localhost:8080/"
        },
        "id": "ygnvIZrWyOsR",
        "outputId": "9bbb087f-3c9f-4a17-a523-d082ef82083d"
      },
      "source": [
        "# Save Best Model\n",
        "model.save(\"/content/drive/MyDrive/Colab Notebooks/MIDAS/Models/task-1\")"
      ],
      "execution_count": null,
      "outputs": [
        {
          "output_type": "stream",
          "text": [
            "INFO:tensorflow:Assets written to: /content/drive/MyDrive/Colab Notebooks/MIDAS/Models/task-1/assets\n"
          ],
          "name": "stdout"
        }
      ]
    },
    {
      "cell_type": "code",
      "metadata": {
        "colab": {
          "base_uri": "https://localhost:8080/"
        },
        "id": "Fwz7kOtF7lzF",
        "outputId": "e72f328f-52e3-42c7-a592-09c92f1225ee"
      },
      "source": [
        "model.evaluate(X_train,y_train)"
      ],
      "execution_count": null,
      "outputs": [
        {
          "output_type": "stream",
          "text": [
            "70/70 [==============================] - 1s 7ms/step - loss: 0.0830 - acc: 0.9677\n"
          ],
          "name": "stdout"
        },
        {
          "output_type": "execute_result",
          "data": {
            "text/plain": [
              "[0.08295390009880066, 0.9677419066429138]"
            ]
          },
          "metadata": {
            "tags": []
          },
          "execution_count": 15
        }
      ]
    },
    {
      "cell_type": "code",
      "metadata": {
        "colab": {
          "base_uri": "https://localhost:8080/"
        },
        "id": "sfmzKqMJ2S88",
        "outputId": "e01ffb0e-2145-414e-f91c-cb6d63b8b856"
      },
      "source": [
        "aug_history = model.evaluate(datagen.flow(X_train.reshape((-1,28,28,1)),y_train,batch_size=3000))\n"
      ],
      "execution_count": null,
      "outputs": [
        {
          "output_type": "stream",
          "text": [
            "1/1 [==============================] - 1s 917ms/step - loss: 0.6117 - acc: 0.8145\n"
          ],
          "name": "stdout"
        }
      ]
    },
    {
      "cell_type": "code",
      "metadata": {
        "colab": {
          "base_uri": "https://localhost:8080/",
          "height": 867
        },
        "id": "W_h4ulPC-d_L",
        "outputId": "a1c3ce51-c210-4024-a02c-cf1260b2b9ac"
      },
      "source": [
        "# Plot Confusion Matrix\n",
        "plot_confusion_matrix(model, X, Y)"
      ],
      "execution_count": null,
      "outputs": [
        {
          "output_type": "display_data",
          "data": {
            "image/png": "[encoded data removed]",
            "text/plain": [
              "<Figure size 1080x1080 with 2 Axes>"
            ]
          },
          "metadata": {
            "tags": [],
            "needs_background": "light"
          }
        }
      ]
    },
    {
      "cell_type": "markdown",
      "metadata": {
        "id": "pKTJKgDj9NgP"
      },
      "source": [
        "#Task-2\n",
        "\n"
      ]
    },
    {
      "cell_type": "markdown",
      "metadata": {
        "id": "vYDbTjVu9Rhv"
      },
      "source": [
        "##Training on 0-9"
      ]
    },
    {
      "cell_type": "code",
      "metadata": {
        "id": "flhj_exW9UEn"
      },
      "source": [
        "X_T2 =train.iloc[:400,1:].values\n",
        "X_T2 = X_T2.reshape((-1,28,28))\n",
        "Y_T2 = Y_enc[:400]"
      ],
      "execution_count": null,
      "outputs": []
    },
    {
      "cell_type": "code",
      "metadata": {
        "id": "7c_YqaLG_cb7"
      },
      "source": [
        "\n",
        "model = tf.keras.models.load_model(\"/content/drive/MyDrive/Colab Notebooks/MIDAS/Models/task-1\")"
      ],
      "execution_count": null,
      "outputs": []
    },
    {
      "cell_type": "code",
      "metadata": {
        "id": "MnvyYFZvBAoI"
      },
      "source": [
        "checkpoint_filepath2a = '/content/drive/MyDrive/Colab Notebooks/MIDAS/Checkpoints/task-2/task-2a'\n",
        "model_checkpoint_callback_2a = tf.keras.callbacks.ModelCheckpoint(\n",
        "    filepath=checkpoint_filepath2a,\n",
        "    save_weights_only=True,\n",
        "    monitor='val_accuracy',\n",
        "    mode='max',\n",
        "    save_best_only=False)"
      ],
      "execution_count": null,
      "outputs": []
    },
    {
      "cell_type": "code",
      "metadata": {
        "colab": {
          "base_uri": "https://localhost:8080/"
        },
        "id": "tXNY_lBZAKqS",
        "outputId": "d2ce8523-d25a-4bbf-d9da-c1773642cbb8"
      },
      "source": [
        "model.fit(X_T2,Y_T2,validation_split=0.01,epochs=200, batch_size = 32,shuffle = True, callbacks = [early_stopper,callback,model_checkpoint_callback_2a])"
      ],
      "execution_count": null,
      "outputs": [
        {
          "output_type": "stream",
          "text": [
            "Epoch 1/200\n",
            "13/13 [==============================] - 3s 71ms/step - loss: 1.3369 - acc: 0.6717 - val_loss: 0.0119 - val_acc: 1.0000\n",
            "Epoch 2/200\n",
            "13/13 [==============================] - 0s 23ms/step - loss: 1.0916 - acc: 0.6793 - val_loss: 0.0116 - val_acc: 1.0000\n",
            "Epoch 3/200\n",
            "13/13 [==============================] - 0s 23ms/step - loss: 1.0126 - acc: 0.7121 - val_loss: 0.0115 - val_acc: 1.0000\n",
            "Epoch 4/200\n",
            "13/13 [==============================] - 0s 23ms/step - loss: 0.8640 - acc: 0.7525 - val_loss: 0.0115 - val_acc: 1.0000\n",
            "Epoch 5/200\n",
            "13/13 [==============================] - 0s 23ms/step - loss: 0.7356 - acc: 0.7803 - val_loss: 0.0116 - val_acc: 1.0000\n",
            "Epoch 6/200\n",
            "13/13 [==============================] - 0s 23ms/step - loss: 0.6767 - acc: 0.7854 - val_loss: 0.0118 - val_acc: 1.0000\n",
            "Epoch 7/200\n",
            "13/13 [==============================] - 0s 23ms/step - loss: 0.6981 - acc: 0.7929 - val_loss: 0.0119 - val_acc: 1.0000\n",
            "Epoch 8/200\n",
            "13/13 [==============================] - 0s 22ms/step - loss: 0.5851 - acc: 0.8106 - val_loss: 0.0123 - val_acc: 1.0000\n",
            "Epoch 9/200\n",
            "13/13 [==============================] - 0s 23ms/step - loss: 0.6313 - acc: 0.8384 - val_loss: 0.0127 - val_acc: 1.0000\n",
            "Epoch 10/200\n",
            "13/13 [==============================] - 0s 22ms/step - loss: 0.5336 - acc: 0.8384 - val_loss: 0.0136 - val_acc: 1.0000\n",
            "Epoch 11/200\n",
            "13/13 [==============================] - 0s 23ms/step - loss: 0.4477 - acc: 0.8813 - val_loss: 0.0140 - val_acc: 1.0000\n"
          ],
          "name": "stdout"
        },
        {
          "output_type": "execute_result",
          "data": {
            "text/plain": [
              "<tensorflow.python.keras.callbacks.History at 0x7f19c895b090>"
            ]
          },
          "metadata": {
            "tags": []
          },
          "execution_count": 21
        }
      ]
    },
    {
      "cell_type": "code",
      "metadata": {
        "colab": {
          "base_uri": "https://localhost:8080/"
        },
        "id": "Vie6KlZ198Qg",
        "outputId": "27c7c276-e5a5-4adc-bfda-4c7ca605c6ba"
      },
      "source": [
        "model.save(\"/content/drive/MyDrive/Colab Notebooks/MIDAS/Models/task-2/task-2a\")"
      ],
      "execution_count": null,
      "outputs": [
        {
          "output_type": "stream",
          "text": [
            "INFO:tensorflow:Assets written to: /content/drive/MyDrive/Colab Notebooks/MIDAS/Models/task-2/task-2a/assets\n"
          ],
          "name": "stdout"
        },
        {
          "output_type": "stream",
          "text": [
            "INFO:tensorflow:Assets written to: /content/drive/MyDrive/Colab Notebooks/MIDAS/Models/task-2/task-2a/assets\n"
          ],
          "name": "stderr"
        }
      ]
    },
    {
      "cell_type": "markdown",
      "metadata": {
        "id": "lEsOjqy_95Ow"
      },
      "source": [
        "##Convert MNIST data set to CSV format"
      ]
    },
    {
      "cell_type": "code",
      "metadata": {
        "id": "aC3SX1a1HePd"
      },
      "source": [
        "def convert(imgf, labelf, outf, n):\n",
        "    f = open(imgf, \"rb\")\n",
        "    o = open(outf, \"w\")\n",
        "    l = open(labelf, \"rb\")\n",
        " \n",
        "    f.read(16)\n",
        "    l.read(8)\n",
        "    images = []\n",
        " \n",
        "    for i in range(n):\n",
        "        image = [ord(l.read(1))]\n",
        "        for j in range(28*28):\n",
        "            image.append(ord(f.read(1)))\n",
        "        images.append(image)\n",
        " \n",
        "    for image in images:\n",
        "        o.write(\",\".join(str(pix) for pix in image)+\"\\n\")\n",
        "    f.close()\n",
        "    o.close()\n",
        "    l.close()\n",
        "\n",
        "convert(\"/content/drive/MyDrive/Colab Notebooks/MIDAS/train-images-idx3-ubyte/train-images.idx3-ubyte\", \"/content/drive/MyDrive/Colab Notebooks/MIDAS/train-labels-idx1-ubyte/train-labels.idx1-ubyte\",\n",
        "        \"/content/drive/MyDrive/Colab Notebooks/MIDAS/mnist_train.csv\", 60000)\n",
        "convert(\"/content/drive/MyDrive/Colab Notebooks/MIDAS/t10k-images-idx3-ubyte/t10k-images.idx3-ubyte\", \"/content/drive/MyDrive/Colab Notebooks/MIDAS/train-labels-idx1-ubyte/train-labels.idx1-ubyte\",\n",
        "        \"/content/drive/MyDrive/Colab Notebooks/MIDAS/mnist_test.csv\", 10000)\n",
        " \n",
        "print(\"Convert Finished!\")\n"
      ],
      "execution_count": null,
      "outputs": []
    },
    {
      "cell_type": "markdown",
      "metadata": {
        "id": "oWwwSgvmTf-E"
      },
      "source": [
        "##Load MNIST Data"
      ]
    },
    {
      "cell_type": "code",
      "metadata": {
        "id": "8j5ep3fy2XRW"
      },
      "source": [
        "# load data from csv\n",
        "mnist_train = pd.read_csv(\"/content/drive/MyDrive/Colab Notebooks/MIDAS/mnist_train.csv\",header=None)\n",
        "mnist_test = pd.read_csv(\"/content/drive/MyDrive/Colab Notebooks/MIDAS/mnist_test.csv\",header=None)"
      ],
      "execution_count": 6,
      "outputs": []
    },
    {
      "cell_type": "code",
      "metadata": {
        "id": "MnwYYRhNFAYr",
        "colab": {
          "base_uri": "https://localhost:8080/"
        },
        "outputId": "044d4519-f415-44b1-9167-a9ef6de41e39"
      },
      "source": [
        "pd.unique(mnist_train.iloc[:,0])"
      ],
      "execution_count": 7,
      "outputs": [
        {
          "output_type": "execute_result",
          "data": {
            "text/plain": [
              "array([5, 0, 4, 1, 9, 2, 3, 6, 7, 8])"
            ]
          },
          "metadata": {
            "tags": []
          },
          "execution_count": 7
        }
      ]
    },
    {
      "cell_type": "code",
      "metadata": {
        "id": "Oq55HNT4EHQa"
      },
      "source": [
        "mnist_train_x =mnist_train.iloc[:,1:].values\n",
        "mnist_train_x = mnist_train_x.reshape((-1,28,28))\n",
        "mnist_train_y = mnist_train.iloc[:,:1].values\n",
        "mnist_train_y_enc = enc.transform(mnist_train_y.reshape(-1,1)).toarray()\n",
        "\n",
        "mnist_test_x =mnist_test.iloc[:,1:].values\n",
        "mnist_test_x = mnist_test_x.reshape((-1,28,28))\n",
        "mnist_test_y = mnist_test.iloc[:,:1].values\n",
        "mnist_test_y_enc = enc.transform(mnist_test_y.reshape(-1,1)).toarray()"
      ],
      "execution_count": 12,
      "outputs": []
    },
    {
      "cell_type": "code",
      "metadata": {
        "id": "-5s0zrFrFMdY",
        "colab": {
          "base_uri": "https://localhost:8080/"
        },
        "outputId": "f6234c17-0781-4fc2-fa6b-2d2cc2e6fa33"
      },
      "source": [
        "mnist_train_x.shape, mnist_train_y_enc.shape,mnist_test_x.shape,mnist_test_y_enc.shape,"
      ],
      "execution_count": 13,
      "outputs": [
        {
          "output_type": "execute_result",
          "data": {
            "text/plain": [
              "((60000, 28, 28), (60000, 62), (10000, 28, 28), (10000, 62))"
            ]
          },
          "metadata": {
            "tags": []
          },
          "execution_count": 13
        }
      ]
    },
    {
      "cell_type": "markdown",
      "metadata": {
        "id": "3cTMrrmqFozA"
      },
      "source": [
        "##Pretrained Model Training"
      ]
    },
    {
      "cell_type": "code",
      "metadata": {
        "id": "ID8Yr1w1H0KM"
      },
      "source": [
        "# Load Best Model\n",
        "model_2b  = tf.keras.models.load_model(\"/content/drive/MyDrive/Colab Notebooks/MIDAS/Models/task-2/task-2a\")"
      ],
      "execution_count": null,
      "outputs": []
    },
    {
      "cell_type": "code",
      "metadata": {
        "colab": {
          "base_uri": "https://localhost:8080/"
        },
        "id": "ePIwZW-jFtC4",
        "outputId": "58c59c02-8438-4bc1-bee3-67013709b248"
      },
      "source": [
        "\n",
        "# CheckPoints\n",
        "checkpoint_filepath2b = '/content/drive/MyDrive/Colab Notebooks/MIDAS/Checkpoints/task-2/task-2b'\n",
        "model_checkpoint_callback_2b = tf.keras.callbacks.ModelCheckpoint(\n",
        "    filepath=checkpoint_filepath2b,\n",
        "    monitor='val_loss', verbose=0, save_best_only=False,\n",
        "    save_weights_only=False, mode='auto', save_freq='epoch')\n",
        "# Training\n",
        "history_2b = model_2b.fit(mnist_train_x,mnist_train_y_enc,validation_data=(mnist_test_x, mnist_test_y_enc),epochs=200, batch_size = 32,shuffle = True, callbacks = [early_stopper,callback,model_checkpoint_callback_2b])"
      ],
      "execution_count": 17,
      "outputs": [
        {
          "output_type": "stream",
          "text": [
            "Epoch 1/200\n",
            "1875/1875 [==============================] - 43s 21ms/step - loss: 1.7365 - acc: 0.6920 - val_loss: 0.3183 - val_acc: 0.9344\n",
            "INFO:tensorflow:Assets written to: /content/drive/MyDrive/Colab Notebooks/MIDAS/Checkpoints/task-2/task-2b/assets\n"
          ],
          "name": "stdout"
        },
        {
          "output_type": "stream",
          "text": [
            "INFO:tensorflow:Assets written to: /content/drive/MyDrive/Colab Notebooks/MIDAS/Checkpoints/task-2/task-2b/assets\n"
          ],
          "name": "stderr"
        },
        {
          "output_type": "stream",
          "text": [
            "Epoch 2/200\n",
            "1875/1875 [==============================] - 39s 21ms/step - loss: 0.4437 - acc: 0.9058 - val_loss: 0.1786 - val_acc: 0.9613\n",
            "INFO:tensorflow:Assets written to: /content/drive/MyDrive/Colab Notebooks/MIDAS/Checkpoints/task-2/task-2b/assets\n"
          ],
          "name": "stdout"
        },
        {
          "output_type": "stream",
          "text": [
            "INFO:tensorflow:Assets written to: /content/drive/MyDrive/Colab Notebooks/MIDAS/Checkpoints/task-2/task-2b/assets\n"
          ],
          "name": "stderr"
        },
        {
          "output_type": "stream",
          "text": [
            "Epoch 3/200\n",
            "1875/1875 [==============================] - 39s 21ms/step - loss: 0.2900 - acc: 0.9381 - val_loss: 0.1279 - val_acc: 0.9718\n",
            "INFO:tensorflow:Assets written to: /content/drive/MyDrive/Colab Notebooks/MIDAS/Checkpoints/task-2/task-2b/assets\n"
          ],
          "name": "stdout"
        },
        {
          "output_type": "stream",
          "text": [
            "INFO:tensorflow:Assets written to: /content/drive/MyDrive/Colab Notebooks/MIDAS/Checkpoints/task-2/task-2b/assets\n"
          ],
          "name": "stderr"
        },
        {
          "output_type": "stream",
          "text": [
            "Epoch 4/200\n",
            "1875/1875 [==============================] - 39s 21ms/step - loss: 0.2182 - acc: 0.9520 - val_loss: 0.0926 - val_acc: 0.9785\n",
            "INFO:tensorflow:Assets written to: /content/drive/MyDrive/Colab Notebooks/MIDAS/Checkpoints/task-2/task-2b/assets\n"
          ],
          "name": "stdout"
        },
        {
          "output_type": "stream",
          "text": [
            "INFO:tensorflow:Assets written to: /content/drive/MyDrive/Colab Notebooks/MIDAS/Checkpoints/task-2/task-2b/assets\n"
          ],
          "name": "stderr"
        },
        {
          "output_type": "stream",
          "text": [
            "Epoch 5/200\n",
            "1875/1875 [==============================] - 39s 21ms/step - loss: 0.1774 - acc: 0.9606 - val_loss: 0.0778 - val_acc: 0.9812\n",
            "INFO:tensorflow:Assets written to: /content/drive/MyDrive/Colab Notebooks/MIDAS/Checkpoints/task-2/task-2b/assets\n"
          ],
          "name": "stdout"
        },
        {
          "output_type": "stream",
          "text": [
            "INFO:tensorflow:Assets written to: /content/drive/MyDrive/Colab Notebooks/MIDAS/Checkpoints/task-2/task-2b/assets\n"
          ],
          "name": "stderr"
        },
        {
          "output_type": "stream",
          "text": [
            "Epoch 6/200\n",
            "1875/1875 [==============================] - 39s 21ms/step - loss: 0.1498 - acc: 0.9656 - val_loss: 0.0660 - val_acc: 0.9833\n",
            "INFO:tensorflow:Assets written to: /content/drive/MyDrive/Colab Notebooks/MIDAS/Checkpoints/task-2/task-2b/assets\n"
          ],
          "name": "stdout"
        },
        {
          "output_type": "stream",
          "text": [
            "INFO:tensorflow:Assets written to: /content/drive/MyDrive/Colab Notebooks/MIDAS/Checkpoints/task-2/task-2b/assets\n"
          ],
          "name": "stderr"
        },
        {
          "output_type": "stream",
          "text": [
            "Epoch 7/200\n",
            "1875/1875 [==============================] - 39s 21ms/step - loss: 0.1337 - acc: 0.9682 - val_loss: 0.0587 - val_acc: 0.9847\n",
            "INFO:tensorflow:Assets written to: /content/drive/MyDrive/Colab Notebooks/MIDAS/Checkpoints/task-2/task-2b/assets\n"
          ],
          "name": "stdout"
        },
        {
          "output_type": "stream",
          "text": [
            "INFO:tensorflow:Assets written to: /content/drive/MyDrive/Colab Notebooks/MIDAS/Checkpoints/task-2/task-2b/assets\n"
          ],
          "name": "stderr"
        },
        {
          "output_type": "stream",
          "text": [
            "Epoch 8/200\n",
            "1875/1875 [==============================] - 39s 21ms/step - loss: 0.1139 - acc: 0.9726 - val_loss: 0.0530 - val_acc: 0.9867\n",
            "INFO:tensorflow:Assets written to: /content/drive/MyDrive/Colab Notebooks/MIDAS/Checkpoints/task-2/task-2b/assets\n"
          ],
          "name": "stdout"
        },
        {
          "output_type": "stream",
          "text": [
            "INFO:tensorflow:Assets written to: /content/drive/MyDrive/Colab Notebooks/MIDAS/Checkpoints/task-2/task-2b/assets\n"
          ],
          "name": "stderr"
        },
        {
          "output_type": "stream",
          "text": [
            "Epoch 9/200\n",
            "1875/1875 [==============================] - 39s 21ms/step - loss: 0.1106 - acc: 0.9733 - val_loss: 0.0525 - val_acc: 0.9868\n",
            "INFO:tensorflow:Assets written to: /content/drive/MyDrive/Colab Notebooks/MIDAS/Checkpoints/task-2/task-2b/assets\n"
          ],
          "name": "stdout"
        },
        {
          "output_type": "stream",
          "text": [
            "INFO:tensorflow:Assets written to: /content/drive/MyDrive/Colab Notebooks/MIDAS/Checkpoints/task-2/task-2b/assets\n"
          ],
          "name": "stderr"
        },
        {
          "output_type": "stream",
          "text": [
            "Epoch 10/200\n",
            "1875/1875 [==============================] - 39s 21ms/step - loss: 0.0976 - acc: 0.9761 - val_loss: 0.0493 - val_acc: 0.9871\n",
            "INFO:tensorflow:Assets written to: /content/drive/MyDrive/Colab Notebooks/MIDAS/Checkpoints/task-2/task-2b/assets\n"
          ],
          "name": "stdout"
        },
        {
          "output_type": "stream",
          "text": [
            "INFO:tensorflow:Assets written to: /content/drive/MyDrive/Colab Notebooks/MIDAS/Checkpoints/task-2/task-2b/assets\n"
          ],
          "name": "stderr"
        },
        {
          "output_type": "stream",
          "text": [
            "Epoch 11/200\n",
            "1875/1875 [==============================] - 39s 21ms/step - loss: 0.0908 - acc: 0.9768 - val_loss: 0.0456 - val_acc: 0.9886\n",
            "INFO:tensorflow:Assets written to: /content/drive/MyDrive/Colab Notebooks/MIDAS/Checkpoints/task-2/task-2b/assets\n"
          ],
          "name": "stdout"
        },
        {
          "output_type": "stream",
          "text": [
            "INFO:tensorflow:Assets written to: /content/drive/MyDrive/Colab Notebooks/MIDAS/Checkpoints/task-2/task-2b/assets\n"
          ],
          "name": "stderr"
        },
        {
          "output_type": "stream",
          "text": [
            "Epoch 12/200\n",
            "1875/1875 [==============================] - 39s 21ms/step - loss: 0.0912 - acc: 0.9773 - val_loss: 0.0445 - val_acc: 0.9890\n",
            "INFO:tensorflow:Assets written to: /content/drive/MyDrive/Colab Notebooks/MIDAS/Checkpoints/task-2/task-2b/assets\n"
          ],
          "name": "stdout"
        },
        {
          "output_type": "stream",
          "text": [
            "INFO:tensorflow:Assets written to: /content/drive/MyDrive/Colab Notebooks/MIDAS/Checkpoints/task-2/task-2b/assets\n"
          ],
          "name": "stderr"
        },
        {
          "output_type": "stream",
          "text": [
            "Epoch 13/200\n",
            "1875/1875 [==============================] - 39s 21ms/step - loss: 0.0851 - acc: 0.9791 - val_loss: 0.0430 - val_acc: 0.9892\n",
            "INFO:tensorflow:Assets written to: /content/drive/MyDrive/Colab Notebooks/MIDAS/Checkpoints/task-2/task-2b/assets\n"
          ],
          "name": "stdout"
        },
        {
          "output_type": "stream",
          "text": [
            "INFO:tensorflow:Assets written to: /content/drive/MyDrive/Colab Notebooks/MIDAS/Checkpoints/task-2/task-2b/assets\n"
          ],
          "name": "stderr"
        },
        {
          "output_type": "stream",
          "text": [
            "Epoch 14/200\n",
            "1875/1875 [==============================] - 39s 21ms/step - loss: 0.0820 - acc: 0.9794 - val_loss: 0.0409 - val_acc: 0.9896\n",
            "INFO:tensorflow:Assets written to: /content/drive/MyDrive/Colab Notebooks/MIDAS/Checkpoints/task-2/task-2b/assets\n"
          ],
          "name": "stdout"
        },
        {
          "output_type": "stream",
          "text": [
            "INFO:tensorflow:Assets written to: /content/drive/MyDrive/Colab Notebooks/MIDAS/Checkpoints/task-2/task-2b/assets\n"
          ],
          "name": "stderr"
        },
        {
          "output_type": "stream",
          "text": [
            "Epoch 15/200\n",
            "1875/1875 [==============================] - 39s 21ms/step - loss: 0.0806 - acc: 0.9797 - val_loss: 0.0406 - val_acc: 0.9897\n",
            "INFO:tensorflow:Assets written to: /content/drive/MyDrive/Colab Notebooks/MIDAS/Checkpoints/task-2/task-2b/assets\n"
          ],
          "name": "stdout"
        },
        {
          "output_type": "stream",
          "text": [
            "INFO:tensorflow:Assets written to: /content/drive/MyDrive/Colab Notebooks/MIDAS/Checkpoints/task-2/task-2b/assets\n"
          ],
          "name": "stderr"
        },
        {
          "output_type": "stream",
          "text": [
            "Epoch 16/200\n",
            "1875/1875 [==============================] - 39s 21ms/step - loss: 0.0770 - acc: 0.9807 - val_loss: 0.0394 - val_acc: 0.9904\n",
            "INFO:tensorflow:Assets written to: /content/drive/MyDrive/Colab Notebooks/MIDAS/Checkpoints/task-2/task-2b/assets\n"
          ],
          "name": "stdout"
        },
        {
          "output_type": "stream",
          "text": [
            "INFO:tensorflow:Assets written to: /content/drive/MyDrive/Colab Notebooks/MIDAS/Checkpoints/task-2/task-2b/assets\n"
          ],
          "name": "stderr"
        },
        {
          "output_type": "stream",
          "text": [
            "Epoch 17/200\n",
            "1875/1875 [==============================] - 39s 21ms/step - loss: 0.0745 - acc: 0.9812 - val_loss: 0.0403 - val_acc: 0.9896\n",
            "INFO:tensorflow:Assets written to: /content/drive/MyDrive/Colab Notebooks/MIDAS/Checkpoints/task-2/task-2b/assets\n"
          ],
          "name": "stdout"
        },
        {
          "output_type": "stream",
          "text": [
            "INFO:tensorflow:Assets written to: /content/drive/MyDrive/Colab Notebooks/MIDAS/Checkpoints/task-2/task-2b/assets\n"
          ],
          "name": "stderr"
        },
        {
          "output_type": "stream",
          "text": [
            "Epoch 18/200\n",
            "1875/1875 [==============================] - 39s 21ms/step - loss: 0.0691 - acc: 0.9824 - val_loss: 0.0386 - val_acc: 0.9900\n",
            "INFO:tensorflow:Assets written to: /content/drive/MyDrive/Colab Notebooks/MIDAS/Checkpoints/task-2/task-2b/assets\n"
          ],
          "name": "stdout"
        },
        {
          "output_type": "stream",
          "text": [
            "INFO:tensorflow:Assets written to: /content/drive/MyDrive/Colab Notebooks/MIDAS/Checkpoints/task-2/task-2b/assets\n"
          ],
          "name": "stderr"
        },
        {
          "output_type": "stream",
          "text": [
            "Epoch 19/200\n",
            "1875/1875 [==============================] - 39s 21ms/step - loss: 0.0721 - acc: 0.9810 - val_loss: 0.0382 - val_acc: 0.9900\n",
            "INFO:tensorflow:Assets written to: /content/drive/MyDrive/Colab Notebooks/MIDAS/Checkpoints/task-2/task-2b/assets\n"
          ],
          "name": "stdout"
        },
        {
          "output_type": "stream",
          "text": [
            "INFO:tensorflow:Assets written to: /content/drive/MyDrive/Colab Notebooks/MIDAS/Checkpoints/task-2/task-2b/assets\n"
          ],
          "name": "stderr"
        },
        {
          "output_type": "stream",
          "text": [
            "Epoch 20/200\n",
            "1875/1875 [==============================] - 39s 21ms/step - loss: 0.0697 - acc: 0.9817 - val_loss: 0.0368 - val_acc: 0.9906\n",
            "INFO:tensorflow:Assets written to: /content/drive/MyDrive/Colab Notebooks/MIDAS/Checkpoints/task-2/task-2b/assets\n"
          ],
          "name": "stdout"
        },
        {
          "output_type": "stream",
          "text": [
            "INFO:tensorflow:Assets written to: /content/drive/MyDrive/Colab Notebooks/MIDAS/Checkpoints/task-2/task-2b/assets\n"
          ],
          "name": "stderr"
        },
        {
          "output_type": "stream",
          "text": [
            "Epoch 21/200\n",
            "1875/1875 [==============================] - 39s 21ms/step - loss: 0.0673 - acc: 0.9825 - val_loss: 0.0368 - val_acc: 0.9907\n",
            "INFO:tensorflow:Assets written to: /content/drive/MyDrive/Colab Notebooks/MIDAS/Checkpoints/task-2/task-2b/assets\n"
          ],
          "name": "stdout"
        },
        {
          "output_type": "stream",
          "text": [
            "INFO:tensorflow:Assets written to: /content/drive/MyDrive/Colab Notebooks/MIDAS/Checkpoints/task-2/task-2b/assets\n"
          ],
          "name": "stderr"
        },
        {
          "output_type": "stream",
          "text": [
            "Epoch 22/200\n",
            "1875/1875 [==============================] - 39s 21ms/step - loss: 0.0671 - acc: 0.9831 - val_loss: 0.0360 - val_acc: 0.9907\n",
            "INFO:tensorflow:Assets written to: /content/drive/MyDrive/Colab Notebooks/MIDAS/Checkpoints/task-2/task-2b/assets\n"
          ],
          "name": "stdout"
        },
        {
          "output_type": "stream",
          "text": [
            "INFO:tensorflow:Assets written to: /content/drive/MyDrive/Colab Notebooks/MIDAS/Checkpoints/task-2/task-2b/assets\n"
          ],
          "name": "stderr"
        },
        {
          "output_type": "stream",
          "text": [
            "Epoch 23/200\n",
            "1875/1875 [==============================] - 39s 21ms/step - loss: 0.0666 - acc: 0.9828 - val_loss: 0.0364 - val_acc: 0.9908\n",
            "INFO:tensorflow:Assets written to: /content/drive/MyDrive/Colab Notebooks/MIDAS/Checkpoints/task-2/task-2b/assets\n"
          ],
          "name": "stdout"
        },
        {
          "output_type": "stream",
          "text": [
            "INFO:tensorflow:Assets written to: /content/drive/MyDrive/Colab Notebooks/MIDAS/Checkpoints/task-2/task-2b/assets\n"
          ],
          "name": "stderr"
        },
        {
          "output_type": "stream",
          "text": [
            "Epoch 24/200\n",
            "1875/1875 [==============================] - 39s 21ms/step - loss: 0.0642 - acc: 0.9838 - val_loss: 0.0363 - val_acc: 0.9907\n",
            "INFO:tensorflow:Assets written to: /content/drive/MyDrive/Colab Notebooks/MIDAS/Checkpoints/task-2/task-2b/assets\n"
          ],
          "name": "stdout"
        },
        {
          "output_type": "stream",
          "text": [
            "INFO:tensorflow:Assets written to: /content/drive/MyDrive/Colab Notebooks/MIDAS/Checkpoints/task-2/task-2b/assets\n"
          ],
          "name": "stderr"
        },
        {
          "output_type": "stream",
          "text": [
            "Epoch 25/200\n",
            "1875/1875 [==============================] - 39s 21ms/step - loss: 0.0647 - acc: 0.9831 - val_loss: 0.0358 - val_acc: 0.9910\n",
            "INFO:tensorflow:Assets written to: /content/drive/MyDrive/Colab Notebooks/MIDAS/Checkpoints/task-2/task-2b/assets\n"
          ],
          "name": "stdout"
        },
        {
          "output_type": "stream",
          "text": [
            "INFO:tensorflow:Assets written to: /content/drive/MyDrive/Colab Notebooks/MIDAS/Checkpoints/task-2/task-2b/assets\n"
          ],
          "name": "stderr"
        },
        {
          "output_type": "stream",
          "text": [
            "Epoch 26/200\n",
            "1875/1875 [==============================] - 39s 21ms/step - loss: 0.0637 - acc: 0.9836 - val_loss: 0.0356 - val_acc: 0.9912\n",
            "INFO:tensorflow:Assets written to: /content/drive/MyDrive/Colab Notebooks/MIDAS/Checkpoints/task-2/task-2b/assets\n"
          ],
          "name": "stdout"
        },
        {
          "output_type": "stream",
          "text": [
            "INFO:tensorflow:Assets written to: /content/drive/MyDrive/Colab Notebooks/MIDAS/Checkpoints/task-2/task-2b/assets\n"
          ],
          "name": "stderr"
        },
        {
          "output_type": "stream",
          "text": [
            "Epoch 27/200\n",
            "1875/1875 [==============================] - 39s 21ms/step - loss: 0.0611 - acc: 0.9849 - val_loss: 0.0353 - val_acc: 0.9912\n",
            "INFO:tensorflow:Assets written to: /content/drive/MyDrive/Colab Notebooks/MIDAS/Checkpoints/task-2/task-2b/assets\n"
          ],
          "name": "stdout"
        },
        {
          "output_type": "stream",
          "text": [
            "INFO:tensorflow:Assets written to: /content/drive/MyDrive/Colab Notebooks/MIDAS/Checkpoints/task-2/task-2b/assets\n"
          ],
          "name": "stderr"
        },
        {
          "output_type": "stream",
          "text": [
            "Epoch 28/200\n",
            "1875/1875 [==============================] - 39s 21ms/step - loss: 0.0609 - acc: 0.9849 - val_loss: 0.0359 - val_acc: 0.9909\n",
            "INFO:tensorflow:Assets written to: /content/drive/MyDrive/Colab Notebooks/MIDAS/Checkpoints/task-2/task-2b/assets\n"
          ],
          "name": "stdout"
        },
        {
          "output_type": "stream",
          "text": [
            "INFO:tensorflow:Assets written to: /content/drive/MyDrive/Colab Notebooks/MIDAS/Checkpoints/task-2/task-2b/assets\n"
          ],
          "name": "stderr"
        },
        {
          "output_type": "stream",
          "text": [
            "Epoch 29/200\n",
            "1875/1875 [==============================] - 39s 21ms/step - loss: 0.0651 - acc: 0.9830 - val_loss: 0.0348 - val_acc: 0.9913\n",
            "INFO:tensorflow:Assets written to: /content/drive/MyDrive/Colab Notebooks/MIDAS/Checkpoints/task-2/task-2b/assets\n"
          ],
          "name": "stdout"
        },
        {
          "output_type": "stream",
          "text": [
            "INFO:tensorflow:Assets written to: /content/drive/MyDrive/Colab Notebooks/MIDAS/Checkpoints/task-2/task-2b/assets\n"
          ],
          "name": "stderr"
        },
        {
          "output_type": "stream",
          "text": [
            "Epoch 30/200\n",
            "1875/1875 [==============================] - 39s 21ms/step - loss: 0.0617 - acc: 0.9844 - val_loss: 0.0348 - val_acc: 0.9911\n",
            "INFO:tensorflow:Assets written to: /content/drive/MyDrive/Colab Notebooks/MIDAS/Checkpoints/task-2/task-2b/assets\n"
          ],
          "name": "stdout"
        },
        {
          "output_type": "stream",
          "text": [
            "INFO:tensorflow:Assets written to: /content/drive/MyDrive/Colab Notebooks/MIDAS/Checkpoints/task-2/task-2b/assets\n"
          ],
          "name": "stderr"
        },
        {
          "output_type": "stream",
          "text": [
            "Epoch 31/200\n",
            "1875/1875 [==============================] - 39s 21ms/step - loss: 0.0624 - acc: 0.9842 - val_loss: 0.0346 - val_acc: 0.9914\n",
            "INFO:tensorflow:Assets written to: /content/drive/MyDrive/Colab Notebooks/MIDAS/Checkpoints/task-2/task-2b/assets\n"
          ],
          "name": "stdout"
        },
        {
          "output_type": "stream",
          "text": [
            "INFO:tensorflow:Assets written to: /content/drive/MyDrive/Colab Notebooks/MIDAS/Checkpoints/task-2/task-2b/assets\n"
          ],
          "name": "stderr"
        },
        {
          "output_type": "stream",
          "text": [
            "Epoch 32/200\n",
            "1875/1875 [==============================] - 39s 21ms/step - loss: 0.0637 - acc: 0.9837 - val_loss: 0.0349 - val_acc: 0.9912\n",
            "INFO:tensorflow:Assets written to: /content/drive/MyDrive/Colab Notebooks/MIDAS/Checkpoints/task-2/task-2b/assets\n"
          ],
          "name": "stdout"
        },
        {
          "output_type": "stream",
          "text": [
            "INFO:tensorflow:Assets written to: /content/drive/MyDrive/Colab Notebooks/MIDAS/Checkpoints/task-2/task-2b/assets\n"
          ],
          "name": "stderr"
        },
        {
          "output_type": "stream",
          "text": [
            "Epoch 33/200\n",
            "1875/1875 [==============================] - 39s 21ms/step - loss: 0.0596 - acc: 0.9844 - val_loss: 0.0349 - val_acc: 0.9911\n",
            "INFO:tensorflow:Assets written to: /content/drive/MyDrive/Colab Notebooks/MIDAS/Checkpoints/task-2/task-2b/assets\n"
          ],
          "name": "stdout"
        },
        {
          "output_type": "stream",
          "text": [
            "INFO:tensorflow:Assets written to: /content/drive/MyDrive/Colab Notebooks/MIDAS/Checkpoints/task-2/task-2b/assets\n"
          ],
          "name": "stderr"
        },
        {
          "output_type": "stream",
          "text": [
            "Epoch 34/200\n",
            "1875/1875 [==============================] - 39s 21ms/step - loss: 0.0622 - acc: 0.9832 - val_loss: 0.0343 - val_acc: 0.9911\n",
            "INFO:tensorflow:Assets written to: /content/drive/MyDrive/Colab Notebooks/MIDAS/Checkpoints/task-2/task-2b/assets\n"
          ],
          "name": "stdout"
        },
        {
          "output_type": "stream",
          "text": [
            "INFO:tensorflow:Assets written to: /content/drive/MyDrive/Colab Notebooks/MIDAS/Checkpoints/task-2/task-2b/assets\n"
          ],
          "name": "stderr"
        },
        {
          "output_type": "stream",
          "text": [
            "Epoch 35/200\n",
            "1875/1875 [==============================] - 39s 21ms/step - loss: 0.0627 - acc: 0.9841 - val_loss: 0.0341 - val_acc: 0.9915\n",
            "INFO:tensorflow:Assets written to: /content/drive/MyDrive/Colab Notebooks/MIDAS/Checkpoints/task-2/task-2b/assets\n"
          ],
          "name": "stdout"
        },
        {
          "output_type": "stream",
          "text": [
            "INFO:tensorflow:Assets written to: /content/drive/MyDrive/Colab Notebooks/MIDAS/Checkpoints/task-2/task-2b/assets\n"
          ],
          "name": "stderr"
        },
        {
          "output_type": "stream",
          "text": [
            "Epoch 36/200\n",
            "1875/1875 [==============================] - 39s 21ms/step - loss: 0.0594 - acc: 0.9847 - val_loss: 0.0345 - val_acc: 0.9913\n",
            "INFO:tensorflow:Assets written to: /content/drive/MyDrive/Colab Notebooks/MIDAS/Checkpoints/task-2/task-2b/assets\n"
          ],
          "name": "stdout"
        },
        {
          "output_type": "stream",
          "text": [
            "INFO:tensorflow:Assets written to: /content/drive/MyDrive/Colab Notebooks/MIDAS/Checkpoints/task-2/task-2b/assets\n"
          ],
          "name": "stderr"
        },
        {
          "output_type": "stream",
          "text": [
            "Epoch 37/200\n",
            "1875/1875 [==============================] - 39s 21ms/step - loss: 0.0608 - acc: 0.9843 - val_loss: 0.0340 - val_acc: 0.9916\n",
            "INFO:tensorflow:Assets written to: /content/drive/MyDrive/Colab Notebooks/MIDAS/Checkpoints/task-2/task-2b/assets\n"
          ],
          "name": "stdout"
        },
        {
          "output_type": "stream",
          "text": [
            "INFO:tensorflow:Assets written to: /content/drive/MyDrive/Colab Notebooks/MIDAS/Checkpoints/task-2/task-2b/assets\n"
          ],
          "name": "stderr"
        },
        {
          "output_type": "stream",
          "text": [
            "Epoch 38/200\n",
            "1875/1875 [==============================] - 39s 21ms/step - loss: 0.0585 - acc: 0.9848 - val_loss: 0.0342 - val_acc: 0.9912\n",
            "INFO:tensorflow:Assets written to: /content/drive/MyDrive/Colab Notebooks/MIDAS/Checkpoints/task-2/task-2b/assets\n"
          ],
          "name": "stdout"
        },
        {
          "output_type": "stream",
          "text": [
            "INFO:tensorflow:Assets written to: /content/drive/MyDrive/Colab Notebooks/MIDAS/Checkpoints/task-2/task-2b/assets\n"
          ],
          "name": "stderr"
        },
        {
          "output_type": "stream",
          "text": [
            "Epoch 39/200\n",
            "1875/1875 [==============================] - 39s 21ms/step - loss: 0.0621 - acc: 0.9840 - val_loss: 0.0341 - val_acc: 0.9914\n",
            "INFO:tensorflow:Assets written to: /content/drive/MyDrive/Colab Notebooks/MIDAS/Checkpoints/task-2/task-2b/assets\n"
          ],
          "name": "stdout"
        },
        {
          "output_type": "stream",
          "text": [
            "INFO:tensorflow:Assets written to: /content/drive/MyDrive/Colab Notebooks/MIDAS/Checkpoints/task-2/task-2b/assets\n"
          ],
          "name": "stderr"
        },
        {
          "output_type": "stream",
          "text": [
            "Epoch 40/200\n",
            "1875/1875 [==============================] - 39s 21ms/step - loss: 0.0583 - acc: 0.9851 - val_loss: 0.0340 - val_acc: 0.9914\n",
            "INFO:tensorflow:Assets written to: /content/drive/MyDrive/Colab Notebooks/MIDAS/Checkpoints/task-2/task-2b/assets\n"
          ],
          "name": "stdout"
        },
        {
          "output_type": "stream",
          "text": [
            "INFO:tensorflow:Assets written to: /content/drive/MyDrive/Colab Notebooks/MIDAS/Checkpoints/task-2/task-2b/assets\n"
          ],
          "name": "stderr"
        },
        {
          "output_type": "stream",
          "text": [
            "Epoch 41/200\n",
            "1875/1875 [==============================] - 39s 21ms/step - loss: 0.0594 - acc: 0.9847 - val_loss: 0.0340 - val_acc: 0.9913\n",
            "INFO:tensorflow:Assets written to: /content/drive/MyDrive/Colab Notebooks/MIDAS/Checkpoints/task-2/task-2b/assets\n"
          ],
          "name": "stdout"
        },
        {
          "output_type": "stream",
          "text": [
            "INFO:tensorflow:Assets written to: /content/drive/MyDrive/Colab Notebooks/MIDAS/Checkpoints/task-2/task-2b/assets\n"
          ],
          "name": "stderr"
        },
        {
          "output_type": "stream",
          "text": [
            "Epoch 42/200\n",
            "1875/1875 [==============================] - 39s 21ms/step - loss: 0.0605 - acc: 0.9838 - val_loss: 0.0339 - val_acc: 0.9914\n",
            "INFO:tensorflow:Assets written to: /content/drive/MyDrive/Colab Notebooks/MIDAS/Checkpoints/task-2/task-2b/assets\n"
          ],
          "name": "stdout"
        },
        {
          "output_type": "stream",
          "text": [
            "INFO:tensorflow:Assets written to: /content/drive/MyDrive/Colab Notebooks/MIDAS/Checkpoints/task-2/task-2b/assets\n"
          ],
          "name": "stderr"
        },
        {
          "output_type": "stream",
          "text": [
            "Epoch 43/200\n",
            "1875/1875 [==============================] - 39s 21ms/step - loss: 0.0595 - acc: 0.9848 - val_loss: 0.0337 - val_acc: 0.9915\n",
            "INFO:tensorflow:Assets written to: /content/drive/MyDrive/Colab Notebooks/MIDAS/Checkpoints/task-2/task-2b/assets\n"
          ],
          "name": "stdout"
        },
        {
          "output_type": "stream",
          "text": [
            "INFO:tensorflow:Assets written to: /content/drive/MyDrive/Colab Notebooks/MIDAS/Checkpoints/task-2/task-2b/assets\n"
          ],
          "name": "stderr"
        },
        {
          "output_type": "stream",
          "text": [
            "Epoch 44/200\n",
            "1875/1875 [==============================] - 39s 21ms/step - loss: 0.0590 - acc: 0.9852 - val_loss: 0.0335 - val_acc: 0.9917\n",
            "INFO:tensorflow:Assets written to: /content/drive/MyDrive/Colab Notebooks/MIDAS/Checkpoints/task-2/task-2b/assets\n"
          ],
          "name": "stdout"
        },
        {
          "output_type": "stream",
          "text": [
            "INFO:tensorflow:Assets written to: /content/drive/MyDrive/Colab Notebooks/MIDAS/Checkpoints/task-2/task-2b/assets\n"
          ],
          "name": "stderr"
        },
        {
          "output_type": "stream",
          "text": [
            "Epoch 45/200\n",
            "1875/1875 [==============================] - 39s 21ms/step - loss: 0.0594 - acc: 0.9846 - val_loss: 0.0340 - val_acc: 0.9914\n",
            "INFO:tensorflow:Assets written to: /content/drive/MyDrive/Colab Notebooks/MIDAS/Checkpoints/task-2/task-2b/assets\n"
          ],
          "name": "stdout"
        },
        {
          "output_type": "stream",
          "text": [
            "INFO:tensorflow:Assets written to: /content/drive/MyDrive/Colab Notebooks/MIDAS/Checkpoints/task-2/task-2b/assets\n"
          ],
          "name": "stderr"
        },
        {
          "output_type": "stream",
          "text": [
            "Epoch 46/200\n",
            "1875/1875 [==============================] - 39s 21ms/step - loss: 0.0592 - acc: 0.9850 - val_loss: 0.0339 - val_acc: 0.9914\n",
            "INFO:tensorflow:Assets written to: /content/drive/MyDrive/Colab Notebooks/MIDAS/Checkpoints/task-2/task-2b/assets\n"
          ],
          "name": "stdout"
        },
        {
          "output_type": "stream",
          "text": [
            "INFO:tensorflow:Assets written to: /content/drive/MyDrive/Colab Notebooks/MIDAS/Checkpoints/task-2/task-2b/assets\n"
          ],
          "name": "stderr"
        },
        {
          "output_type": "stream",
          "text": [
            "Epoch 47/200\n",
            "1875/1875 [==============================] - 39s 21ms/step - loss: 0.0572 - acc: 0.9848 - val_loss: 0.0335 - val_acc: 0.9915\n",
            "INFO:tensorflow:Assets written to: /content/drive/MyDrive/Colab Notebooks/MIDAS/Checkpoints/task-2/task-2b/assets\n"
          ],
          "name": "stdout"
        },
        {
          "output_type": "stream",
          "text": [
            "INFO:tensorflow:Assets written to: /content/drive/MyDrive/Colab Notebooks/MIDAS/Checkpoints/task-2/task-2b/assets\n"
          ],
          "name": "stderr"
        },
        {
          "output_type": "stream",
          "text": [
            "Epoch 48/200\n",
            "1875/1875 [==============================] - 39s 21ms/step - loss: 0.0580 - acc: 0.9852 - val_loss: 0.0336 - val_acc: 0.9918\n",
            "INFO:tensorflow:Assets written to: /content/drive/MyDrive/Colab Notebooks/MIDAS/Checkpoints/task-2/task-2b/assets\n"
          ],
          "name": "stdout"
        },
        {
          "output_type": "stream",
          "text": [
            "INFO:tensorflow:Assets written to: /content/drive/MyDrive/Colab Notebooks/MIDAS/Checkpoints/task-2/task-2b/assets\n"
          ],
          "name": "stderr"
        },
        {
          "output_type": "stream",
          "text": [
            "Epoch 49/200\n",
            "1875/1875 [==============================] - 39s 21ms/step - loss: 0.0624 - acc: 0.9843 - val_loss: 0.0340 - val_acc: 0.9917\n",
            "INFO:tensorflow:Assets written to: /content/drive/MyDrive/Colab Notebooks/MIDAS/Checkpoints/task-2/task-2b/assets\n"
          ],
          "name": "stdout"
        },
        {
          "output_type": "stream",
          "text": [
            "INFO:tensorflow:Assets written to: /content/drive/MyDrive/Colab Notebooks/MIDAS/Checkpoints/task-2/task-2b/assets\n"
          ],
          "name": "stderr"
        },
        {
          "output_type": "stream",
          "text": [
            "Epoch 50/200\n",
            "1875/1875 [==============================] - 39s 21ms/step - loss: 0.0571 - acc: 0.9850 - val_loss: 0.0338 - val_acc: 0.9917\n",
            "INFO:tensorflow:Assets written to: /content/drive/MyDrive/Colab Notebooks/MIDAS/Checkpoints/task-2/task-2b/assets\n"
          ],
          "name": "stdout"
        },
        {
          "output_type": "stream",
          "text": [
            "INFO:tensorflow:Assets written to: /content/drive/MyDrive/Colab Notebooks/MIDAS/Checkpoints/task-2/task-2b/assets\n"
          ],
          "name": "stderr"
        },
        {
          "output_type": "stream",
          "text": [
            "Epoch 51/200\n",
            "1875/1875 [==============================] - 39s 21ms/step - loss: 0.0617 - acc: 0.9843 - val_loss: 0.0337 - val_acc: 0.9916\n",
            "INFO:tensorflow:Assets written to: /content/drive/MyDrive/Colab Notebooks/MIDAS/Checkpoints/task-2/task-2b/assets\n"
          ],
          "name": "stdout"
        },
        {
          "output_type": "stream",
          "text": [
            "INFO:tensorflow:Assets written to: /content/drive/MyDrive/Colab Notebooks/MIDAS/Checkpoints/task-2/task-2b/assets\n"
          ],
          "name": "stderr"
        }
      ]
    },
    {
      "cell_type": "code",
      "metadata": {
        "id": "nEgfipCfGmab",
        "colab": {
          "base_uri": "https://localhost:8080/"
        },
        "outputId": "a3c44fa3-b624-410c-b9c3-c928d7ba2657"
      },
      "source": [
        "# Save Pretrained Model\n",
        "model_2b.save(\"/content/drive/MyDrive/Colab Notebooks/MIDAS/Models/task-2/task-2b\")"
      ],
      "execution_count": 18,
      "outputs": [
        {
          "output_type": "stream",
          "text": [
            "INFO:tensorflow:Assets written to: /content/drive/MyDrive/Colab Notebooks/MIDAS/Models/task-2/task-2b/assets\n"
          ],
          "name": "stdout"
        },
        {
          "output_type": "stream",
          "text": [
            "INFO:tensorflow:Assets written to: /content/drive/MyDrive/Colab Notebooks/MIDAS/Models/task-2/task-2b/assets\n"
          ],
          "name": "stderr"
        }
      ]
    },
    {
      "cell_type": "code",
      "metadata": {
        "id": "KN_o7x-g-SuO"
      },
      "source": [
        "# model_task2 = tf.keras.models.load_model(\"/content/drive/MyDrive/Colab Notebooks/MIDAS/Models/task-2/task-2b\")"
      ],
      "execution_count": 19,
      "outputs": []
    },
    {
      "cell_type": "code",
      "metadata": {
        "id": "NjUZMDSZ_0pC",
        "colab": {
          "base_uri": "https://localhost:8080/",
          "height": 863
        },
        "outputId": "ca452e47-04fb-4cad-b3e1-7558d1ca917b"
      },
      "source": [
        "plot_confusion_matrix(model_2b, mnist_test_x, mnist_test_y, lables)"
      ],
      "execution_count": 20,
      "outputs": [
        {
          "output_type": "display_data",
          "data": {
            "image/png": "[encoded data removed]",
            "text/plain": [
              "<Figure size 1080x1080 with 2 Axes>"
            ]
          },
          "metadata": {
            "tags": [],
            "needs_background": "light"
          }
        }
      ]
    },
    {
      "cell_type": "code",
      "metadata": {
        "id": "ap-aThLxI-t4",
        "colab": {
          "base_uri": "https://localhost:8080/",
          "height": 295
        },
        "outputId": "0afc0761-2fd4-4a6a-de3c-a8f172618e47"
      },
      "source": [
        "#Training Plot\n",
        "# summarize history for loss\n",
        "plt.plot(history_2b.history['loss'])\n",
        "plt.plot(history_2b.history['val_loss'])\n",
        "plt.title('model loss')\n",
        "plt.ylabel('loss')\n",
        "plt.xlabel('epoch')\n",
        "plt.legend(['train', 'test'], loc='upper left')\n",
        "plt.show()"
      ],
      "execution_count": 21,
      "outputs": [
        {
          "output_type": "display_data",
          "data": {
            "image/png": "[encoded data removed]",
            "text/plain": [
              "<Figure size 432x288 with 1 Axes>"
            ]
          },
          "metadata": {
            "tags": [],
            "needs_background": "light"
          }
        }
      ]
    },
    {
      "cell_type": "markdown",
      "metadata": {
        "id": "WUBNXucdJHmf"
      },
      "source": [
        "##Scratch Model"
      ]
    },
    {
      "cell_type": "code",
      "metadata": {
        "id": "2fvhws8gGGXp",
        "colab": {
          "base_uri": "https://localhost:8080/"
        },
        "outputId": "626cc444-dbfb-4243-88b6-0af1fcb8f690"
      },
      "source": [
        "scratch_model_2c = CNN()\n",
        "# optimizer\n",
        "optimizer = tf.keras.optimizers.Adam(learning_rate=0.001)\n",
        "checkpoint_filepath2c = '/content/drive/MyDrive/Colab Notebooks/MIDAS/Checkpoints/task-2/task-2c'\n",
        "model_checkpoint_callback_2c = tf.keras.callbacks.ModelCheckpoint(\n",
        "    filepath=checkpoint_filepath2c,\n",
        "    monitor='val_loss', verbose=0, save_best_only=False,\n",
        "    save_weights_only=False, mode='auto', save_freq='epoch')\n",
        "# compile\n",
        "scratch_model_2c.compile(optimizer, 'categorical_crossentropy', metrics=['acc'])\n",
        "history_2c = scratch_model_2c.fit(mnist_train_x,mnist_train_y_enc,validation_data=(mnist_test_x, mnist_test_y_enc),epochs=200, batch_size = 32,shuffle = True, callbacks = [early_stopper,callback,model_checkpoint_callback_2c])"
      ],
      "execution_count": 24,
      "outputs": [
        {
          "output_type": "stream",
          "text": [
            "Epoch 1/200\n",
            "1875/1875 [==============================] - 41s 21ms/step - loss: 0.5915 - acc: 0.8378 - val_loss: 0.0974 - val_acc: 0.9762\n",
            "INFO:tensorflow:Assets written to: /content/drive/MyDrive/Colab Notebooks/MIDAS/Checkpoints/task-2/task-2c/assets\n"
          ],
          "name": "stdout"
        },
        {
          "output_type": "stream",
          "text": [
            "INFO:tensorflow:Assets written to: /content/drive/MyDrive/Colab Notebooks/MIDAS/Checkpoints/task-2/task-2c/assets\n"
          ],
          "name": "stderr"
        },
        {
          "output_type": "stream",
          "text": [
            "Epoch 2/200\n",
            "1875/1875 [==============================] - 39s 21ms/step - loss: 0.1204 - acc: 0.9723 - val_loss: 0.0944 - val_acc: 0.9788\n",
            "INFO:tensorflow:Assets written to: /content/drive/MyDrive/Colab Notebooks/MIDAS/Checkpoints/task-2/task-2c/assets\n"
          ],
          "name": "stdout"
        },
        {
          "output_type": "stream",
          "text": [
            "INFO:tensorflow:Assets written to: /content/drive/MyDrive/Colab Notebooks/MIDAS/Checkpoints/task-2/task-2c/assets\n"
          ],
          "name": "stderr"
        },
        {
          "output_type": "stream",
          "text": [
            "Epoch 3/200\n",
            "1875/1875 [==============================] - 39s 21ms/step - loss: 0.0885 - acc: 0.9799 - val_loss: 0.0403 - val_acc: 0.9913\n",
            "INFO:tensorflow:Assets written to: /content/drive/MyDrive/Colab Notebooks/MIDAS/Checkpoints/task-2/task-2c/assets\n"
          ],
          "name": "stdout"
        },
        {
          "output_type": "stream",
          "text": [
            "INFO:tensorflow:Assets written to: /content/drive/MyDrive/Colab Notebooks/MIDAS/Checkpoints/task-2/task-2c/assets\n"
          ],
          "name": "stderr"
        },
        {
          "output_type": "stream",
          "text": [
            "Epoch 4/200\n",
            "1875/1875 [==============================] - 39s 21ms/step - loss: 0.0791 - acc: 0.9824 - val_loss: 0.0523 - val_acc: 0.9868\n",
            "INFO:tensorflow:Assets written to: /content/drive/MyDrive/Colab Notebooks/MIDAS/Checkpoints/task-2/task-2c/assets\n"
          ],
          "name": "stdout"
        },
        {
          "output_type": "stream",
          "text": [
            "INFO:tensorflow:Assets written to: /content/drive/MyDrive/Colab Notebooks/MIDAS/Checkpoints/task-2/task-2c/assets\n"
          ],
          "name": "stderr"
        },
        {
          "output_type": "stream",
          "text": [
            "Epoch 5/200\n",
            "1875/1875 [==============================] - 39s 21ms/step - loss: 0.0687 - acc: 0.9844 - val_loss: 0.0450 - val_acc: 0.9907\n",
            "INFO:tensorflow:Assets written to: /content/drive/MyDrive/Colab Notebooks/MIDAS/Checkpoints/task-2/task-2c/assets\n"
          ],
          "name": "stdout"
        },
        {
          "output_type": "stream",
          "text": [
            "INFO:tensorflow:Assets written to: /content/drive/MyDrive/Colab Notebooks/MIDAS/Checkpoints/task-2/task-2c/assets\n"
          ],
          "name": "stderr"
        },
        {
          "output_type": "stream",
          "text": [
            "Epoch 6/200\n",
            "1875/1875 [==============================] - 39s 21ms/step - loss: 0.0524 - acc: 0.9883 - val_loss: 0.0385 - val_acc: 0.9907\n",
            "INFO:tensorflow:Assets written to: /content/drive/MyDrive/Colab Notebooks/MIDAS/Checkpoints/task-2/task-2c/assets\n"
          ],
          "name": "stdout"
        },
        {
          "output_type": "stream",
          "text": [
            "INFO:tensorflow:Assets written to: /content/drive/MyDrive/Colab Notebooks/MIDAS/Checkpoints/task-2/task-2c/assets\n"
          ],
          "name": "stderr"
        },
        {
          "output_type": "stream",
          "text": [
            "Epoch 7/200\n",
            "1875/1875 [==============================] - 39s 21ms/step - loss: 0.0409 - acc: 0.9908 - val_loss: 0.0307 - val_acc: 0.9926\n",
            "INFO:tensorflow:Assets written to: /content/drive/MyDrive/Colab Notebooks/MIDAS/Checkpoints/task-2/task-2c/assets\n"
          ],
          "name": "stdout"
        },
        {
          "output_type": "stream",
          "text": [
            "INFO:tensorflow:Assets written to: /content/drive/MyDrive/Colab Notebooks/MIDAS/Checkpoints/task-2/task-2c/assets\n"
          ],
          "name": "stderr"
        },
        {
          "output_type": "stream",
          "text": [
            "Epoch 8/200\n",
            "1875/1875 [==============================] - 39s 21ms/step - loss: 0.0297 - acc: 0.9928 - val_loss: 0.0303 - val_acc: 0.9927\n",
            "INFO:tensorflow:Assets written to: /content/drive/MyDrive/Colab Notebooks/MIDAS/Checkpoints/task-2/task-2c/assets\n"
          ],
          "name": "stdout"
        },
        {
          "output_type": "stream",
          "text": [
            "INFO:tensorflow:Assets written to: /content/drive/MyDrive/Colab Notebooks/MIDAS/Checkpoints/task-2/task-2c/assets\n"
          ],
          "name": "stderr"
        },
        {
          "output_type": "stream",
          "text": [
            "Epoch 9/200\n",
            "1875/1875 [==============================] - 39s 21ms/step - loss: 0.0271 - acc: 0.9937 - val_loss: 0.0279 - val_acc: 0.9934\n",
            "INFO:tensorflow:Assets written to: /content/drive/MyDrive/Colab Notebooks/MIDAS/Checkpoints/task-2/task-2c/assets\n"
          ],
          "name": "stdout"
        },
        {
          "output_type": "stream",
          "text": [
            "INFO:tensorflow:Assets written to: /content/drive/MyDrive/Colab Notebooks/MIDAS/Checkpoints/task-2/task-2c/assets\n"
          ],
          "name": "stderr"
        },
        {
          "output_type": "stream",
          "text": [
            "Epoch 10/200\n",
            "1875/1875 [==============================] - 39s 21ms/step - loss: 0.0233 - acc: 0.9946 - val_loss: 0.0266 - val_acc: 0.9938\n",
            "INFO:tensorflow:Assets written to: /content/drive/MyDrive/Colab Notebooks/MIDAS/Checkpoints/task-2/task-2c/assets\n"
          ],
          "name": "stdout"
        },
        {
          "output_type": "stream",
          "text": [
            "INFO:tensorflow:Assets written to: /content/drive/MyDrive/Colab Notebooks/MIDAS/Checkpoints/task-2/task-2c/assets\n"
          ],
          "name": "stderr"
        },
        {
          "output_type": "stream",
          "text": [
            "Epoch 11/200\n",
            "1875/1875 [==============================] - 39s 21ms/step - loss: 0.0202 - acc: 0.9949 - val_loss: 0.0315 - val_acc: 0.9933\n",
            "INFO:tensorflow:Assets written to: /content/drive/MyDrive/Colab Notebooks/MIDAS/Checkpoints/task-2/task-2c/assets\n"
          ],
          "name": "stdout"
        },
        {
          "output_type": "stream",
          "text": [
            "INFO:tensorflow:Assets written to: /content/drive/MyDrive/Colab Notebooks/MIDAS/Checkpoints/task-2/task-2c/assets\n"
          ],
          "name": "stderr"
        },
        {
          "output_type": "stream",
          "text": [
            "Epoch 12/200\n",
            "1875/1875 [==============================] - 39s 21ms/step - loss: 0.0172 - acc: 0.9961 - val_loss: 0.0331 - val_acc: 0.9924\n",
            "INFO:tensorflow:Assets written to: /content/drive/MyDrive/Colab Notebooks/MIDAS/Checkpoints/task-2/task-2c/assets\n"
          ],
          "name": "stdout"
        },
        {
          "output_type": "stream",
          "text": [
            "INFO:tensorflow:Assets written to: /content/drive/MyDrive/Colab Notebooks/MIDAS/Checkpoints/task-2/task-2c/assets\n"
          ],
          "name": "stderr"
        },
        {
          "output_type": "stream",
          "text": [
            "Epoch 13/200\n",
            "1875/1875 [==============================] - 39s 21ms/step - loss: 0.0141 - acc: 0.9970 - val_loss: 0.0240 - val_acc: 0.9945\n",
            "INFO:tensorflow:Assets written to: /content/drive/MyDrive/Colab Notebooks/MIDAS/Checkpoints/task-2/task-2c/assets\n"
          ],
          "name": "stdout"
        },
        {
          "output_type": "stream",
          "text": [
            "INFO:tensorflow:Assets written to: /content/drive/MyDrive/Colab Notebooks/MIDAS/Checkpoints/task-2/task-2c/assets\n"
          ],
          "name": "stderr"
        },
        {
          "output_type": "stream",
          "text": [
            "Epoch 14/200\n",
            "1875/1875 [==============================] - 39s 21ms/step - loss: 0.0119 - acc: 0.9968 - val_loss: 0.0261 - val_acc: 0.9942\n",
            "INFO:tensorflow:Assets written to: /content/drive/MyDrive/Colab Notebooks/MIDAS/Checkpoints/task-2/task-2c/assets\n"
          ],
          "name": "stdout"
        },
        {
          "output_type": "stream",
          "text": [
            "INFO:tensorflow:Assets written to: /content/drive/MyDrive/Colab Notebooks/MIDAS/Checkpoints/task-2/task-2c/assets\n"
          ],
          "name": "stderr"
        },
        {
          "output_type": "stream",
          "text": [
            "Epoch 15/200\n",
            "1875/1875 [==============================] - 39s 21ms/step - loss: 0.0106 - acc: 0.9971 - val_loss: 0.0216 - val_acc: 0.9955\n",
            "INFO:tensorflow:Assets written to: /content/drive/MyDrive/Colab Notebooks/MIDAS/Checkpoints/task-2/task-2c/assets\n"
          ],
          "name": "stdout"
        },
        {
          "output_type": "stream",
          "text": [
            "INFO:tensorflow:Assets written to: /content/drive/MyDrive/Colab Notebooks/MIDAS/Checkpoints/task-2/task-2c/assets\n"
          ],
          "name": "stderr"
        },
        {
          "output_type": "stream",
          "text": [
            "Epoch 16/200\n",
            "1875/1875 [==============================] - 39s 21ms/step - loss: 0.0078 - acc: 0.9983 - val_loss: 0.0260 - val_acc: 0.9941\n",
            "INFO:tensorflow:Assets written to: /content/drive/MyDrive/Colab Notebooks/MIDAS/Checkpoints/task-2/task-2c/assets\n"
          ],
          "name": "stdout"
        },
        {
          "output_type": "stream",
          "text": [
            "INFO:tensorflow:Assets written to: /content/drive/MyDrive/Colab Notebooks/MIDAS/Checkpoints/task-2/task-2c/assets\n"
          ],
          "name": "stderr"
        },
        {
          "output_type": "stream",
          "text": [
            "Epoch 17/200\n",
            "1875/1875 [==============================] - 39s 21ms/step - loss: 0.0069 - acc: 0.9981 - val_loss: 0.0244 - val_acc: 0.9951\n",
            "INFO:tensorflow:Assets written to: /content/drive/MyDrive/Colab Notebooks/MIDAS/Checkpoints/task-2/task-2c/assets\n"
          ],
          "name": "stdout"
        },
        {
          "output_type": "stream",
          "text": [
            "INFO:tensorflow:Assets written to: /content/drive/MyDrive/Colab Notebooks/MIDAS/Checkpoints/task-2/task-2c/assets\n"
          ],
          "name": "stderr"
        },
        {
          "output_type": "stream",
          "text": [
            "Epoch 18/200\n",
            "1875/1875 [==============================] - 39s 21ms/step - loss: 0.0080 - acc: 0.9981 - val_loss: 0.0236 - val_acc: 0.9959\n",
            "INFO:tensorflow:Assets written to: /content/drive/MyDrive/Colab Notebooks/MIDAS/Checkpoints/task-2/task-2c/assets\n"
          ],
          "name": "stdout"
        },
        {
          "output_type": "stream",
          "text": [
            "INFO:tensorflow:Assets written to: /content/drive/MyDrive/Colab Notebooks/MIDAS/Checkpoints/task-2/task-2c/assets\n"
          ],
          "name": "stderr"
        },
        {
          "output_type": "stream",
          "text": [
            "Epoch 19/200\n",
            "1875/1875 [==============================] - 39s 21ms/step - loss: 0.0057 - acc: 0.9986 - val_loss: 0.0244 - val_acc: 0.9952\n",
            "INFO:tensorflow:Assets written to: /content/drive/MyDrive/Colab Notebooks/MIDAS/Checkpoints/task-2/task-2c/assets\n"
          ],
          "name": "stdout"
        },
        {
          "output_type": "stream",
          "text": [
            "INFO:tensorflow:Assets written to: /content/drive/MyDrive/Colab Notebooks/MIDAS/Checkpoints/task-2/task-2c/assets\n"
          ],
          "name": "stderr"
        },
        {
          "output_type": "stream",
          "text": [
            "Epoch 20/200\n",
            "1875/1875 [==============================] - 39s 21ms/step - loss: 0.0054 - acc: 0.9988 - val_loss: 0.0254 - val_acc: 0.9955\n",
            "INFO:tensorflow:Assets written to: /content/drive/MyDrive/Colab Notebooks/MIDAS/Checkpoints/task-2/task-2c/assets\n"
          ],
          "name": "stdout"
        },
        {
          "output_type": "stream",
          "text": [
            "INFO:tensorflow:Assets written to: /content/drive/MyDrive/Colab Notebooks/MIDAS/Checkpoints/task-2/task-2c/assets\n"
          ],
          "name": "stderr"
        },
        {
          "output_type": "stream",
          "text": [
            "Epoch 21/200\n",
            "1875/1875 [==============================] - 39s 21ms/step - loss: 0.0041 - acc: 0.9991 - val_loss: 0.0210 - val_acc: 0.9960\n",
            "INFO:tensorflow:Assets written to: /content/drive/MyDrive/Colab Notebooks/MIDAS/Checkpoints/task-2/task-2c/assets\n"
          ],
          "name": "stdout"
        },
        {
          "output_type": "stream",
          "text": [
            "INFO:tensorflow:Assets written to: /content/drive/MyDrive/Colab Notebooks/MIDAS/Checkpoints/task-2/task-2c/assets\n"
          ],
          "name": "stderr"
        },
        {
          "output_type": "stream",
          "text": [
            "Epoch 22/200\n",
            "1875/1875 [==============================] - 39s 21ms/step - loss: 0.0028 - acc: 0.9992 - val_loss: 0.0241 - val_acc: 0.9957\n",
            "INFO:tensorflow:Assets written to: /content/drive/MyDrive/Colab Notebooks/MIDAS/Checkpoints/task-2/task-2c/assets\n"
          ],
          "name": "stdout"
        },
        {
          "output_type": "stream",
          "text": [
            "INFO:tensorflow:Assets written to: /content/drive/MyDrive/Colab Notebooks/MIDAS/Checkpoints/task-2/task-2c/assets\n"
          ],
          "name": "stderr"
        },
        {
          "output_type": "stream",
          "text": [
            "Epoch 23/200\n",
            "1875/1875 [==============================] - 39s 21ms/step - loss: 0.0037 - acc: 0.9991 - val_loss: 0.0231 - val_acc: 0.9959\n",
            "INFO:tensorflow:Assets written to: /content/drive/MyDrive/Colab Notebooks/MIDAS/Checkpoints/task-2/task-2c/assets\n"
          ],
          "name": "stdout"
        },
        {
          "output_type": "stream",
          "text": [
            "INFO:tensorflow:Assets written to: /content/drive/MyDrive/Colab Notebooks/MIDAS/Checkpoints/task-2/task-2c/assets\n"
          ],
          "name": "stderr"
        },
        {
          "output_type": "stream",
          "text": [
            "Epoch 24/200\n",
            "1875/1875 [==============================] - 39s 21ms/step - loss: 0.0032 - acc: 0.9994 - val_loss: 0.0246 - val_acc: 0.9955\n",
            "INFO:tensorflow:Assets written to: /content/drive/MyDrive/Colab Notebooks/MIDAS/Checkpoints/task-2/task-2c/assets\n"
          ],
          "name": "stdout"
        },
        {
          "output_type": "stream",
          "text": [
            "INFO:tensorflow:Assets written to: /content/drive/MyDrive/Colab Notebooks/MIDAS/Checkpoints/task-2/task-2c/assets\n"
          ],
          "name": "stderr"
        },
        {
          "output_type": "stream",
          "text": [
            "Epoch 25/200\n",
            "1875/1875 [==============================] - 39s 21ms/step - loss: 0.0016 - acc: 0.9996 - val_loss: 0.0291 - val_acc: 0.9953\n",
            "INFO:tensorflow:Assets written to: /content/drive/MyDrive/Colab Notebooks/MIDAS/Checkpoints/task-2/task-2c/assets\n"
          ],
          "name": "stdout"
        },
        {
          "output_type": "stream",
          "text": [
            "INFO:tensorflow:Assets written to: /content/drive/MyDrive/Colab Notebooks/MIDAS/Checkpoints/task-2/task-2c/assets\n"
          ],
          "name": "stderr"
        },
        {
          "output_type": "stream",
          "text": [
            "Epoch 26/200\n",
            "1875/1875 [==============================] - 39s 21ms/step - loss: 0.0028 - acc: 0.9993 - val_loss: 0.0263 - val_acc: 0.9954\n",
            "INFO:tensorflow:Assets written to: /content/drive/MyDrive/Colab Notebooks/MIDAS/Checkpoints/task-2/task-2c/assets\n"
          ],
          "name": "stdout"
        },
        {
          "output_type": "stream",
          "text": [
            "INFO:tensorflow:Assets written to: /content/drive/MyDrive/Colab Notebooks/MIDAS/Checkpoints/task-2/task-2c/assets\n"
          ],
          "name": "stderr"
        },
        {
          "output_type": "stream",
          "text": [
            "Epoch 27/200\n",
            "1875/1875 [==============================] - 39s 21ms/step - loss: 0.0020 - acc: 0.9996 - val_loss: 0.0316 - val_acc: 0.9951\n",
            "INFO:tensorflow:Assets written to: /content/drive/MyDrive/Colab Notebooks/MIDAS/Checkpoints/task-2/task-2c/assets\n"
          ],
          "name": "stdout"
        },
        {
          "output_type": "stream",
          "text": [
            "INFO:tensorflow:Assets written to: /content/drive/MyDrive/Colab Notebooks/MIDAS/Checkpoints/task-2/task-2c/assets\n"
          ],
          "name": "stderr"
        },
        {
          "output_type": "stream",
          "text": [
            "Epoch 28/200\n",
            "1875/1875 [==============================] - 39s 21ms/step - loss: 0.0019 - acc: 0.9995 - val_loss: 0.0338 - val_acc: 0.9948\n",
            "INFO:tensorflow:Assets written to: /content/drive/MyDrive/Colab Notebooks/MIDAS/Checkpoints/task-2/task-2c/assets\n"
          ],
          "name": "stdout"
        },
        {
          "output_type": "stream",
          "text": [
            "INFO:tensorflow:Assets written to: /content/drive/MyDrive/Colab Notebooks/MIDAS/Checkpoints/task-2/task-2c/assets\n"
          ],
          "name": "stderr"
        }
      ]
    },
    {
      "cell_type": "code",
      "metadata": {
        "id": "qHZpWnaaGxFz",
        "colab": {
          "base_uri": "https://localhost:8080/"
        },
        "outputId": "586e5b5f-8216-4b1b-ffd8-d7ae5d3accf5"
      },
      "source": [
        "#Save Scrach Trained model\n",
        "scratch_model_2c.save(\"/content/drive/MyDrive/Colab Notebooks/MIDAS/Models/task-2/task-2c\")"
      ],
      "execution_count": 25,
      "outputs": [
        {
          "output_type": "stream",
          "text": [
            "INFO:tensorflow:Assets written to: /content/drive/MyDrive/Colab Notebooks/MIDAS/Models/task-2/task-2c/assets\n"
          ],
          "name": "stdout"
        },
        {
          "output_type": "stream",
          "text": [
            "INFO:tensorflow:Assets written to: /content/drive/MyDrive/Colab Notebooks/MIDAS/Models/task-2/task-2c/assets\n"
          ],
          "name": "stderr"
        }
      ]
    },
    {
      "cell_type": "code",
      "metadata": {
        "id": "CC1IHaUXARZ2"
      },
      "source": [
        "# scratch_model_2c = tf.keras.models.load_model(\"/content/drive/MyDrive/Colab Notebooks/MIDAS/Models/task-2/task-2c\")"
      ],
      "execution_count": 26,
      "outputs": []
    },
    {
      "cell_type": "code",
      "metadata": {
        "id": "7OhJlrjT5PNP",
        "colab": {
          "base_uri": "https://localhost:8080/",
          "height": 863
        },
        "outputId": "0718a778-882b-4960-f04a-90fd30bd43c5"
      },
      "source": [
        "plot_confusion_matrix(scratch_model_2c, mnist_test_x, mnist_test_y, lables)"
      ],
      "execution_count": 27,
      "outputs": [
        {
          "output_type": "display_data",
          "data": {
            "image/png": "[encoded data removed]",
            "text/plain": [
              "<Figure size 1080x1080 with 2 Axes>"
            ]
          },
          "metadata": {
            "tags": [],
            "needs_background": "light"
          }
        }
      ]
    },
    {
      "cell_type": "code",
      "metadata": {
        "id": "jhFbhAB5JQxV",
        "colab": {
          "base_uri": "https://localhost:8080/",
          "height": 295
        },
        "outputId": "a6cc577f-14c9-4dfe-dbd5-b1daebe15518"
      },
      "source": [
        "#Training Plot\n",
        "# summarize history for loss\n",
        "plt.plot(history_2c.history['loss'])\n",
        "plt.plot(history_2c.history['val_loss'])\n",
        "plt.title('model loss')\n",
        "plt.ylabel('loss')\n",
        "plt.xlabel('epoch')\n",
        "plt.legend(['train', 'test'], loc='upper left')\n",
        "plt.show()"
      ],
      "execution_count": 28,
      "outputs": [
        {
          "output_type": "display_data",
          "data": {
            "image/png": "[encoded data removed]",
            "text/plain": [
              "<Figure size 432x288 with 1 Axes>"
            ]
          },
          "metadata": {
            "tags": [],
            "needs_background": "light"
          }
        }
      ]
    },
    {
      "cell_type": "markdown",
      "metadata": {
        "id": "pnM4bedFAsC1"
      },
      "source": [
        "##Observation\n",
        "Scratch model trains faster 21 epochs in comparision to the pretrained model on 44 epochs and also has better loss in both train and test data than the pretrained model.  \n",
        "Train data - MNIST Train Set   \n",
        "Validation data - MNIST Test Set  \n",
        "\n",
        "*   Pretrained Model(loss: 0.0590 - acc: 0.9852 - val_loss: 0.0335 - val_acc: 0.9917)\n",
        "*   Scratch Model(loss: 0.0041 - acc: 0.9991 - val_loss: 0.0210 - val_acc: 0.9960)\n",
        "\n"
      ]
    },
    {
      "cell_type": "code",
      "metadata": {
        "id": "lCxZOGVlPIRC",
        "colab": {
          "base_uri": "https://localhost:8080/"
        },
        "outputId": "79f63b3a-1da7-4f16-e23a-baf3752a930d"
      },
      "source": [
        "print(model_2b.evaluate(mnist_test_x, mnist_test_y_enc))\n",
        "print(scratch_model_2c.evaluate(mnist_test_x, mnist_test_y_enc))"
      ],
      "execution_count": 30,
      "outputs": [
        {
          "output_type": "stream",
          "text": [
            "313/313 [==============================] - 2s 7ms/step - loss: 0.0335 - acc: 0.9917\n",
            "[0.033474694937467575, 0.9916999936103821]\n",
            "313/313 [==============================] - 2s 7ms/step - loss: 0.0210 - acc: 0.9960\n",
            "[0.021037708967924118, 0.9959999918937683]\n"
          ],
          "name": "stdout"
        }
      ]
    },
    {
      "cell_type": "markdown",
      "metadata": {
        "id": "RNXVSknBYWnm"
      },
      "source": [
        "#Task-3 Data\n"
      ]
    },
    {
      "cell_type": "markdown",
      "metadata": {
        "id": "MXeCXRsKPrrD"
      },
      "source": [
        "##Load Data"
      ]
    },
    {
      "cell_type": "code",
      "metadata": {
        "id": "5v1b9QtrY6aF"
      },
      "source": [
        "images = []\n",
        "def loadMIDAS(path,filenames, lable):\n",
        "  for f in filenames:\n",
        "    f = path+\"/\"+f\n",
        "    image = [lable]\n",
        "    copy = cv2.imread(f, cv2.IMREAD_GRAYSCALE)\n",
        "    img = list(copy.flatten())\n",
        "    image = image + img\n",
        "    images.append(image)\n",
        "    \n",
        "  return \n",
        "location = \"/content/drive/MyDrive/Colab Notebooks/MIDAS/mnistTask3/mnistTask/\"\n",
        "\n",
        "for id in range(10):\n",
        "  myPath = location + str(id)\n",
        "  dump1, dump2, filenames = next(walk(myPath))\n",
        "  loadMIDAS(myPath, filenames, id)\n",
        "  print(id)\n",
        "\n",
        "outf = \"/content/drive/MyDrive/Colab Notebooks/MIDAS/task3_train.csv\"\n",
        "o = open(outf, \"w\")\n",
        "for image in images:\n",
        "  o.write(\",\".join(str(pix) for pix in image)+\"\\n\")\n",
        "o.close()"
      ],
      "execution_count": null,
      "outputs": []
    },
    {
      "cell_type": "code",
      "metadata": {
        "id": "ZrbtQpXEvYTq"
      },
      "source": [
        "train3 = pd.read_csv(\"/content/drive/MyDrive/Colab Notebooks/MIDAS/task3_train.csv\", header=None)"
      ],
      "execution_count": 31,
      "outputs": []
    },
    {
      "cell_type": "code",
      "metadata": {
        "id": "B6u6nwgBBwG3",
        "colab": {
          "base_uri": "https://localhost:8080/"
        },
        "outputId": "a9b69a64-eec9-485a-a81e-4bc34352550e"
      },
      "source": [
        "# plt.imshow(task3_x[1], cmap=plt.get_cmap('gray'))\n",
        "task3_x.shape"
      ],
      "execution_count": 37,
      "outputs": [
        {
          "output_type": "execute_result",
          "data": {
            "text/plain": [
              "(60000, 28, 28)"
            ]
          },
          "metadata": {
            "tags": []
          },
          "execution_count": 37
        }
      ]
    },
    {
      "cell_type": "markdown",
      "metadata": {
        "id": "ZhMuFemMPwxN"
      },
      "source": [
        "##Lable Encoder"
      ]
    },
    {
      "cell_type": "code",
      "metadata": {
        "id": "N5YTnaMgByXX"
      },
      "source": [
        "task3_x =train3.iloc[:,1:].values\n",
        "task3_x = task3_x.reshape((-1,28,28))\n",
        "task3_y = train3.iloc[:,:1].values\n",
        "task3_y_enc = enc.transform(task3_y.reshape(-1,1)).toarray()"
      ],
      "execution_count": 32,
      "outputs": []
    },
    {
      "cell_type": "markdown",
      "metadata": {
        "id": "LCeV4iA1Jk2z"
      },
      "source": [
        "##Pretrained Model Training"
      ]
    },
    {
      "cell_type": "code",
      "metadata": {
        "id": "2ViWf6x9JrCE"
      },
      "source": [
        "# Load Best Model of part-1\n",
        "model_3  = tf.keras.models.load_model(\"/content/drive/MyDrive/Colab Notebooks/MIDAS/Models/task-1\")"
      ],
      "execution_count": null,
      "outputs": []
    },
    {
      "cell_type": "code",
      "metadata": {
        "id": "R4eDV5zIJw8k",
        "colab": {
          "base_uri": "https://localhost:8080/"
        },
        "outputId": "82c27032-1b6b-4388-b84f-5f04e6f8acbb"
      },
      "source": [
        "checkpoint_filepath3a = '/content/drive/MyDrive/Colab Notebooks/MIDAS/Checkpoints/task-3/task-3a'\n",
        "model_checkpoint_callback_3a = tf.keras.callbacks.ModelCheckpoint(\n",
        "    filepath=checkpoint_filepath3a,\n",
        "    monitor='val_loss', verbose=0, save_best_only=False,\n",
        "    save_weights_only=False, mode='auto', save_freq='epoch')\n",
        "history_3a = model_3.fit(task3_x,task3_y_enc,validation_data=(mnist_test_x, mnist_test_y_enc),epochs=200, batch_size = 32,shuffle = True, callbacks = [early_stopper,callback,model_checkpoint_callback_3a])"
      ],
      "execution_count": 42,
      "outputs": [
        {
          "output_type": "stream",
          "text": [
            "Epoch 1/200\n",
            "1875/1875 [==============================] - 41s 21ms/step - loss: 5.7102 - acc: 0.0380 - val_loss: 4.1724 - val_acc: 0.0128\n",
            "INFO:tensorflow:Assets written to: /content/drive/MyDrive/Colab Notebooks/MIDAS/Checkpoints/task-3/task-3a/assets\n"
          ],
          "name": "stdout"
        },
        {
          "output_type": "stream",
          "text": [
            "INFO:tensorflow:Assets written to: /content/drive/MyDrive/Colab Notebooks/MIDAS/Checkpoints/task-3/task-3a/assets\n"
          ],
          "name": "stderr"
        },
        {
          "output_type": "stream",
          "text": [
            "Epoch 2/200\n",
            "1875/1875 [==============================] - 39s 21ms/step - loss: 2.9936 - acc: 0.1020 - val_loss: 3.3511 - val_acc: 0.0159\n",
            "INFO:tensorflow:Assets written to: /content/drive/MyDrive/Colab Notebooks/MIDAS/Checkpoints/task-3/task-3a/assets\n"
          ],
          "name": "stdout"
        },
        {
          "output_type": "stream",
          "text": [
            "INFO:tensorflow:Assets written to: /content/drive/MyDrive/Colab Notebooks/MIDAS/Checkpoints/task-3/task-3a/assets\n"
          ],
          "name": "stderr"
        },
        {
          "output_type": "stream",
          "text": [
            "Epoch 3/200\n",
            "1875/1875 [==============================] - 39s 21ms/step - loss: 2.5668 - acc: 0.1078 - val_loss: 3.1174 - val_acc: 0.0138\n",
            "INFO:tensorflow:Assets written to: /content/drive/MyDrive/Colab Notebooks/MIDAS/Checkpoints/task-3/task-3a/assets\n"
          ],
          "name": "stdout"
        },
        {
          "output_type": "stream",
          "text": [
            "INFO:tensorflow:Assets written to: /content/drive/MyDrive/Colab Notebooks/MIDAS/Checkpoints/task-3/task-3a/assets\n"
          ],
          "name": "stderr"
        },
        {
          "output_type": "stream",
          "text": [
            "Epoch 4/200\n",
            "1875/1875 [==============================] - 39s 21ms/step - loss: 2.4531 - acc: 0.1094 - val_loss: 3.0781 - val_acc: 0.0132\n",
            "INFO:tensorflow:Assets written to: /content/drive/MyDrive/Colab Notebooks/MIDAS/Checkpoints/task-3/task-3a/assets\n"
          ],
          "name": "stdout"
        },
        {
          "output_type": "stream",
          "text": [
            "INFO:tensorflow:Assets written to: /content/drive/MyDrive/Colab Notebooks/MIDAS/Checkpoints/task-3/task-3a/assets\n"
          ],
          "name": "stderr"
        },
        {
          "output_type": "stream",
          "text": [
            "Epoch 5/200\n",
            "1875/1875 [==============================] - 39s 21ms/step - loss: 2.4032 - acc: 0.1109 - val_loss: 3.1092 - val_acc: 0.0053\n",
            "INFO:tensorflow:Assets written to: /content/drive/MyDrive/Colab Notebooks/MIDAS/Checkpoints/task-3/task-3a/assets\n"
          ],
          "name": "stdout"
        },
        {
          "output_type": "stream",
          "text": [
            "INFO:tensorflow:Assets written to: /content/drive/MyDrive/Colab Notebooks/MIDAS/Checkpoints/task-3/task-3a/assets\n"
          ],
          "name": "stderr"
        },
        {
          "output_type": "stream",
          "text": [
            "Epoch 6/200\n",
            "1875/1875 [==============================] - 39s 21ms/step - loss: 2.3738 - acc: 0.1094 - val_loss: 3.1965 - val_acc: 0.0046\n",
            "INFO:tensorflow:Assets written to: /content/drive/MyDrive/Colab Notebooks/MIDAS/Checkpoints/task-3/task-3a/assets\n"
          ],
          "name": "stdout"
        },
        {
          "output_type": "stream",
          "text": [
            "INFO:tensorflow:Assets written to: /content/drive/MyDrive/Colab Notebooks/MIDAS/Checkpoints/task-3/task-3a/assets\n"
          ],
          "name": "stderr"
        },
        {
          "output_type": "stream",
          "text": [
            "Epoch 7/200\n",
            "1875/1875 [==============================] - 39s 21ms/step - loss: 2.3567 - acc: 0.1072 - val_loss: 3.3085 - val_acc: 0.0040\n",
            "INFO:tensorflow:Assets written to: /content/drive/MyDrive/Colab Notebooks/MIDAS/Checkpoints/task-3/task-3a/assets\n"
          ],
          "name": "stdout"
        },
        {
          "output_type": "stream",
          "text": [
            "INFO:tensorflow:Assets written to: /content/drive/MyDrive/Colab Notebooks/MIDAS/Checkpoints/task-3/task-3a/assets\n"
          ],
          "name": "stderr"
        },
        {
          "output_type": "stream",
          "text": [
            "Epoch 8/200\n",
            "1875/1875 [==============================] - 39s 21ms/step - loss: 2.3418 - acc: 0.1126 - val_loss: 3.4137 - val_acc: 0.0037\n",
            "INFO:tensorflow:Assets written to: /content/drive/MyDrive/Colab Notebooks/MIDAS/Checkpoints/task-3/task-3a/assets\n"
          ],
          "name": "stdout"
        },
        {
          "output_type": "stream",
          "text": [
            "INFO:tensorflow:Assets written to: /content/drive/MyDrive/Colab Notebooks/MIDAS/Checkpoints/task-3/task-3a/assets\n"
          ],
          "name": "stderr"
        },
        {
          "output_type": "stream",
          "text": [
            "Epoch 9/200\n",
            "1875/1875 [==============================] - 39s 21ms/step - loss: 2.3315 - acc: 0.1124 - val_loss: 3.4915 - val_acc: 0.0034\n",
            "INFO:tensorflow:Assets written to: /content/drive/MyDrive/Colab Notebooks/MIDAS/Checkpoints/task-3/task-3a/assets\n"
          ],
          "name": "stdout"
        },
        {
          "output_type": "stream",
          "text": [
            "INFO:tensorflow:Assets written to: /content/drive/MyDrive/Colab Notebooks/MIDAS/Checkpoints/task-3/task-3a/assets\n"
          ],
          "name": "stderr"
        },
        {
          "output_type": "stream",
          "text": [
            "Epoch 10/200\n",
            "1875/1875 [==============================] - 39s 21ms/step - loss: 2.3305 - acc: 0.1096 - val_loss: 3.5342 - val_acc: 0.0025\n",
            "INFO:tensorflow:Assets written to: /content/drive/MyDrive/Colab Notebooks/MIDAS/Checkpoints/task-3/task-3a/assets\n"
          ],
          "name": "stdout"
        },
        {
          "output_type": "stream",
          "text": [
            "INFO:tensorflow:Assets written to: /content/drive/MyDrive/Colab Notebooks/MIDAS/Checkpoints/task-3/task-3a/assets\n"
          ],
          "name": "stderr"
        },
        {
          "output_type": "stream",
          "text": [
            "Epoch 11/200\n",
            "1875/1875 [==============================] - 39s 21ms/step - loss: 2.3232 - acc: 0.1116 - val_loss: 3.6286 - val_acc: 0.0026\n",
            "INFO:tensorflow:Assets written to: /content/drive/MyDrive/Colab Notebooks/MIDAS/Checkpoints/task-3/task-3a/assets\n"
          ],
          "name": "stdout"
        },
        {
          "output_type": "stream",
          "text": [
            "INFO:tensorflow:Assets written to: /content/drive/MyDrive/Colab Notebooks/MIDAS/Checkpoints/task-3/task-3a/assets\n"
          ],
          "name": "stderr"
        }
      ]
    },
    {
      "cell_type": "code",
      "metadata": {
        "id": "nR9ZxWIrKnW3",
        "colab": {
          "base_uri": "https://localhost:8080/"
        },
        "outputId": "795a2217-49d0-42f0-d7e5-2b04bfd8c7aa"
      },
      "source": [
        "#Save Pretrained model\n",
        "model_3.save(\"/content/drive/MyDrive/Colab Notebooks/MIDAS/Models/task-3/task-3a\")"
      ],
      "execution_count": 43,
      "outputs": [
        {
          "output_type": "stream",
          "text": [
            "INFO:tensorflow:Assets written to: /content/drive/MyDrive/Colab Notebooks/MIDAS/Models/task-3/task-3a/assets\n"
          ],
          "name": "stdout"
        },
        {
          "output_type": "stream",
          "text": [
            "INFO:tensorflow:Assets written to: /content/drive/MyDrive/Colab Notebooks/MIDAS/Models/task-3/task-3a/assets\n"
          ],
          "name": "stderr"
        }
      ]
    },
    {
      "cell_type": "code",
      "metadata": {
        "id": "KaKex_IBLN_J",
        "colab": {
          "base_uri": "https://localhost:8080/",
          "height": 863
        },
        "outputId": "1ffd6175-5455-412a-e343-0b45f55105db"
      },
      "source": [
        "plot_confusion_matrix(model_3, mnist_test_x, mnist_test_y, lables)"
      ],
      "execution_count": 44,
      "outputs": [
        {
          "output_type": "display_data",
          "data": {
            "image/png": "[encoded data removed]",
            "text/plain": [
              "<Figure size 1080x1080 with 2 Axes>"
            ]
          },
          "metadata": {
            "tags": [],
            "needs_background": "light"
          }
        }
      ]
    },
    {
      "cell_type": "code",
      "metadata": {
        "id": "zFXZYmUsLNo3",
        "colab": {
          "base_uri": "https://localhost:8080/",
          "height": 295
        },
        "outputId": "3f2d35c7-155d-4b95-c40e-f2eb15ed7bdb"
      },
      "source": [
        "#Training Plot\n",
        "# summarize history for loss\n",
        "plt.plot(history_3a.history['loss'])\n",
        "plt.plot(history_3a.history['val_loss'])\n",
        "plt.title('model loss')\n",
        "plt.ylabel('loss')\n",
        "plt.xlabel('epoch')\n",
        "plt.legend(['train', 'test'], loc='upper left')\n",
        "plt.show()"
      ],
      "execution_count": 45,
      "outputs": [
        {
          "output_type": "display_data",
          "data": {
            "image/png": "[encoded data removed]",
            "text/plain": [
              "<Figure size 432x288 with 1 Axes>"
            ]
          },
          "metadata": {
            "tags": [],
            "needs_background": "light"
          }
        }
      ]
    },
    {
      "cell_type": "markdown",
      "metadata": {
        "id": "ISYY8jE2KbwW"
      },
      "source": [
        "##Scratch Model"
      ]
    },
    {
      "cell_type": "code",
      "metadata": {
        "id": "RzL4tcSKCYFq",
        "colab": {
          "base_uri": "https://localhost:8080/"
        },
        "outputId": "445414cf-26be-4788-b770-102a7c346ff5"
      },
      "source": [
        "scratch_model_3 = CNN()\n",
        "# optimizer\n",
        "optimizer = tf.keras.optimizers.Adam(learning_rate=0.001)\n",
        "checkpoint_filepath3b = '/content/drive/MyDrive/Colab Notebooks/MIDAS/Checkpoints/task-3/task-3b'\n",
        "model_checkpoint_callback_3b = tf.keras.callbacks.ModelCheckpoint(\n",
        "    filepath=checkpoint_filepath3b,\n",
        "    monitor='val_loss', verbose=0, save_best_only=False,\n",
        "    save_weights_only=False, mode='auto', save_freq='epoch')\n",
        "# compile\n",
        "scratch_model_3.compile(optimizer, 'categorical_crossentropy', metrics=['acc'])\n",
        "history_3b = scratch_model_3.fit(task3_x,task3_y_enc,validation_data=(mnist_test_x, mnist_test_y_enc),epochs=200, batch_size = 32,shuffle = True, callbacks = [early_stopper,callback,model_checkpoint_callback_3b])"
      ],
      "execution_count": 46,
      "outputs": [
        {
          "output_type": "stream",
          "text": [
            "Epoch 1/200\n",
            "1875/1875 [==============================] - 41s 21ms/step - loss: 2.4951 - acc: 0.0976 - val_loss: 2.3973 - val_acc: 0.1066\n",
            "INFO:tensorflow:Assets written to: /content/drive/MyDrive/Colab Notebooks/MIDAS/Checkpoints/task-3/task-3b/assets\n"
          ],
          "name": "stdout"
        },
        {
          "output_type": "stream",
          "text": [
            "INFO:tensorflow:Assets written to: /content/drive/MyDrive/Colab Notebooks/MIDAS/Checkpoints/task-3/task-3b/assets\n"
          ],
          "name": "stderr"
        },
        {
          "output_type": "stream",
          "text": [
            "Epoch 2/200\n",
            "1875/1875 [==============================] - 39s 21ms/step - loss: 2.3206 - acc: 0.1032 - val_loss: 2.5103 - val_acc: 0.0392\n",
            "INFO:tensorflow:Assets written to: /content/drive/MyDrive/Colab Notebooks/MIDAS/Checkpoints/task-3/task-3b/assets\n"
          ],
          "name": "stdout"
        },
        {
          "output_type": "stream",
          "text": [
            "INFO:tensorflow:Assets written to: /content/drive/MyDrive/Colab Notebooks/MIDAS/Checkpoints/task-3/task-3b/assets\n"
          ],
          "name": "stderr"
        },
        {
          "output_type": "stream",
          "text": [
            "Epoch 3/200\n",
            "1875/1875 [==============================] - 39s 21ms/step - loss: 2.3064 - acc: 0.1040 - val_loss: 2.4782 - val_acc: 0.1021\n",
            "INFO:tensorflow:Assets written to: /content/drive/MyDrive/Colab Notebooks/MIDAS/Checkpoints/task-3/task-3b/assets\n"
          ],
          "name": "stdout"
        },
        {
          "output_type": "stream",
          "text": [
            "INFO:tensorflow:Assets written to: /content/drive/MyDrive/Colab Notebooks/MIDAS/Checkpoints/task-3/task-3b/assets\n"
          ],
          "name": "stderr"
        },
        {
          "output_type": "stream",
          "text": [
            "Epoch 4/200\n",
            "1875/1875 [==============================] - 39s 21ms/step - loss: 2.2954 - acc: 0.1073 - val_loss: 2.8639 - val_acc: 0.0144\n",
            "INFO:tensorflow:Assets written to: /content/drive/MyDrive/Colab Notebooks/MIDAS/Checkpoints/task-3/task-3b/assets\n"
          ],
          "name": "stdout"
        },
        {
          "output_type": "stream",
          "text": [
            "INFO:tensorflow:Assets written to: /content/drive/MyDrive/Colab Notebooks/MIDAS/Checkpoints/task-3/task-3b/assets\n"
          ],
          "name": "stderr"
        },
        {
          "output_type": "stream",
          "text": [
            "Epoch 5/200\n",
            "1875/1875 [==============================] - 39s 21ms/step - loss: 2.2883 - acc: 0.1079 - val_loss: 3.3565 - val_acc: 0.0073\n",
            "INFO:tensorflow:Assets written to: /content/drive/MyDrive/Colab Notebooks/MIDAS/Checkpoints/task-3/task-3b/assets\n"
          ],
          "name": "stdout"
        },
        {
          "output_type": "stream",
          "text": [
            "INFO:tensorflow:Assets written to: /content/drive/MyDrive/Colab Notebooks/MIDAS/Checkpoints/task-3/task-3b/assets\n"
          ],
          "name": "stderr"
        },
        {
          "output_type": "stream",
          "text": [
            "Epoch 6/200\n",
            "1875/1875 [==============================] - 39s 21ms/step - loss: 2.2773 - acc: 0.1082 - val_loss: 2.9911 - val_acc: 0.0172\n",
            "INFO:tensorflow:Assets written to: /content/drive/MyDrive/Colab Notebooks/MIDAS/Checkpoints/task-3/task-3b/assets\n"
          ],
          "name": "stdout"
        },
        {
          "output_type": "stream",
          "text": [
            "INFO:tensorflow:Assets written to: /content/drive/MyDrive/Colab Notebooks/MIDAS/Checkpoints/task-3/task-3b/assets\n"
          ],
          "name": "stderr"
        },
        {
          "output_type": "stream",
          "text": [
            "Epoch 7/200\n",
            "1875/1875 [==============================] - 39s 21ms/step - loss: 2.2732 - acc: 0.1103 - val_loss: 3.5154 - val_acc: 0.0047\n",
            "INFO:tensorflow:Assets written to: /content/drive/MyDrive/Colab Notebooks/MIDAS/Checkpoints/task-3/task-3b/assets\n"
          ],
          "name": "stdout"
        },
        {
          "output_type": "stream",
          "text": [
            "INFO:tensorflow:Assets written to: /content/drive/MyDrive/Colab Notebooks/MIDAS/Checkpoints/task-3/task-3b/assets\n"
          ],
          "name": "stderr"
        },
        {
          "output_type": "stream",
          "text": [
            "Epoch 8/200\n",
            "1875/1875 [==============================] - 39s 21ms/step - loss: 2.2599 - acc: 0.1112 - val_loss: 3.3885 - val_acc: 0.0187\n",
            "INFO:tensorflow:Assets written to: /content/drive/MyDrive/Colab Notebooks/MIDAS/Checkpoints/task-3/task-3b/assets\n"
          ],
          "name": "stdout"
        },
        {
          "output_type": "stream",
          "text": [
            "INFO:tensorflow:Assets written to: /content/drive/MyDrive/Colab Notebooks/MIDAS/Checkpoints/task-3/task-3b/assets\n"
          ],
          "name": "stderr"
        }
      ]
    },
    {
      "cell_type": "code",
      "metadata": {
        "id": "kEsdW4YWK-Cv",
        "colab": {
          "base_uri": "https://localhost:8080/"
        },
        "outputId": "b1e6bcee-2989-48e4-981e-5cc82254d049"
      },
      "source": [
        "#Save Scratch model\n",
        "scratch_model_3.save(\"/content/drive/MyDrive/Colab Notebooks/MIDAS/Models/task-3/task-3b\")"
      ],
      "execution_count": 47,
      "outputs": [
        {
          "output_type": "stream",
          "text": [
            "INFO:tensorflow:Assets written to: /content/drive/MyDrive/Colab Notebooks/MIDAS/Models/task-3/task-3b/assets\n"
          ],
          "name": "stdout"
        },
        {
          "output_type": "stream",
          "text": [
            "INFO:tensorflow:Assets written to: /content/drive/MyDrive/Colab Notebooks/MIDAS/Models/task-3/task-3b/assets\n"
          ],
          "name": "stderr"
        }
      ]
    },
    {
      "cell_type": "code",
      "metadata": {
        "id": "Irx-682LLRh-",
        "colab": {
          "base_uri": "https://localhost:8080/",
          "height": 863
        },
        "outputId": "e9906fbb-49ff-4f39-876f-d02706cf7b15"
      },
      "source": [
        "plot_confusion_matrix(scratch_model_3, mnist_test_x, mnist_test_y, lables)"
      ],
      "execution_count": 48,
      "outputs": [
        {
          "output_type": "display_data",
          "data": {
            "image/png": "[encoded data removed]",
            "text/plain": [
              "<Figure size 1080x1080 with 2 Axes>"
            ]
          },
          "metadata": {
            "tags": [],
            "needs_background": "light"
          }
        }
      ]
    },
    {
      "cell_type": "code",
      "metadata": {
        "id": "e0qxtZ6XLRM4",
        "colab": {
          "base_uri": "https://localhost:8080/",
          "height": 295
        },
        "outputId": "b96507cc-e3b3-4e45-f61f-ee039f84acec"
      },
      "source": [
        "#Training Plot\n",
        "# summarize history for loss\n",
        "plt.plot(history_3b.history['loss'])\n",
        "plt.plot(history_3b.history['val_loss'])\n",
        "plt.title('model loss')\n",
        "plt.ylabel('loss')\n",
        "plt.xlabel('epoch')\n",
        "plt.legend(['train', 'test'], loc='upper left')\n",
        "plt.show()"
      ],
      "execution_count": 49,
      "outputs": [
        {
          "output_type": "display_data",
          "data": {
            "image/png": "[encoded data removed]",
            "text/plain": [
              "<Figure size 432x288 with 1 Axes>"
            ]
          },
          "metadata": {
            "tags": [],
            "needs_background": "light"
          }
        }
      ]
    },
    {
      "cell_type": "markdown",
      "metadata": {
        "id": "6G8QYN4BP5cu"
      },
      "source": [
        "##Observation\n",
        "Scratch model achieved less loss on less number of epochs.   \n",
        "Train data - task3  \n",
        "Validation data - MNIST Test Set  \n",
        "\n",
        "###Pretrained Model\n",
        "* epochs - 4\n",
        "* (loss: 2.4531 - acc: 0.1094 - val_loss: 3.0781 - val_acc: 0.0132)\n",
        "###   Scratch Model\n",
        "* epochs - 1\n",
        "* (loss: 2.4951 - acc: 0.0976 - val_loss: 2.3973 - val_acc: 0.1066)\n",
        "\n"
      ]
    },
    {
      "cell_type": "code",
      "metadata": {
        "id": "GVdY-oTMP51_",
        "colab": {
          "base_uri": "https://localhost:8080/"
        },
        "outputId": "c5e7dcc7-cf52-49aa-ca86-35930d7ddd97"
      },
      "source": [
        "print(model_3.evaluate(mnist_test_x, mnist_test_y_enc))\n",
        "print(scratch_model_3.evaluate(mnist_test_x, mnist_test_y_enc))"
      ],
      "execution_count": 50,
      "outputs": [
        {
          "output_type": "stream",
          "text": [
            "313/313 [==============================] - 2s 7ms/step - loss: 3.0781 - acc: 0.0132\n",
            "[3.078131675720215, 0.013199999928474426]\n",
            "313/313 [==============================] - 2s 7ms/step - loss: 2.3973 - acc: 0.1066\n",
            "[2.397303342819214, 0.10660000145435333]\n"
          ],
          "name": "stdout"
        }
      ]
    },
    {
      "cell_type": "code",
      "metadata": {
        "id": "QZ8WVH6CRh8Q"
      },
      "source": [
        ""
      ],
      "execution_count": null,
      "outputs": []
    }
  ]
}